{
  "nbformat": 4,
  "nbformat_minor": 0,
  "metadata": {
    "colab": {
      "name": "0330_2.ipynb",
      "provenance": [],
      "collapsed_sections": [],
      "include_colab_link": true
    },
    "kernelspec": {
      "name": "ir",
      "display_name": "R"
    }
  },
  "cells": [
    {
      "cell_type": "markdown",
      "metadata": {
        "id": "view-in-github",
        "colab_type": "text"
      },
      "source": [
        "<a href=\"https://colab.research.google.com/github/S10955013/bigdata/blob/main/0330_2.ipynb\" target=\"_parent\"><img src=\"https://colab.research.google.com/assets/colab-badge.svg\" alt=\"Open In Colab\"/></a>"
      ]
    },
    {
      "cell_type": "code",
      "metadata": {
        "colab": {
          "base_uri": "https://localhost:8080/"
        },
        "id": "JL8fO7YGKOZX",
        "outputId": "89bd3ffa-b502-473a-f746-114278ae0388"
      },
      "source": [
        "install.packages(\"rJava\")\n",
        "install.packages(\"jiebaR\")\n",
        "install.packages(\"tmcn\")\n",
        "install.packages(\"dplyr\")\n",
        "install.packages(\"lubridate\")\n",
        "install.packages(\"stringr\")\n",
        "install.packages(\"wordcloud\")\n",
        "install.packages(\"Rwordseg\",repos = \"http://R-Forge.R-project.org\")"
      ],
      "execution_count": 2,
      "outputs": [
        {
          "output_type": "stream",
          "text": [
            "Installing package into ‘/usr/local/lib/R/site-library’\n",
            "(as ‘lib’ is unspecified)\n",
            "\n",
            "Installing package into ‘/usr/local/lib/R/site-library’\n",
            "(as ‘lib’ is unspecified)\n",
            "\n",
            "also installing the dependency ‘jiebaRD’\n",
            "\n",
            "\n",
            "Installing package into ‘/usr/local/lib/R/site-library’\n",
            "(as ‘lib’ is unspecified)\n",
            "\n",
            "Installing package into ‘/usr/local/lib/R/site-library’\n",
            "(as ‘lib’ is unspecified)\n",
            "\n",
            "Installing package into ‘/usr/local/lib/R/site-library’\n",
            "(as ‘lib’ is unspecified)\n",
            "\n",
            "Installing package into ‘/usr/local/lib/R/site-library’\n",
            "(as ‘lib’ is unspecified)\n",
            "\n",
            "Installing package into ‘/usr/local/lib/R/site-library’\n",
            "(as ‘lib’ is unspecified)\n",
            "\n",
            "Installing package into ‘/usr/local/lib/R/site-library’\n",
            "(as ‘lib’ is unspecified)\n",
            "\n",
            "Warning message:\n",
            "“dependency ‘HMM’ is not available”\n",
            "Warning message in install.packages(\"Rwordseg\", repos = \"http://R-Forge.R-project.org\"):\n",
            "“installation of package ‘Rwordseg’ had non-zero exit status”\n"
          ],
          "name": "stderr"
        }
      ]
    },
    {
      "cell_type": "code",
      "metadata": {
        "colab": {
          "base_uri": "https://localhost:8080/"
        },
        "id": "XAU2Og9LM-9z",
        "outputId": "543995f9-10c9-4e37-913f-e4908e869249"
      },
      "source": [
        "library(dplyr)\n",
        "library(lubridate)\n",
        "library(stringr)\n",
        "library(jiebaR)\n",
        "library(wordcloud)"
      ],
      "execution_count": 3,
      "outputs": [
        {
          "output_type": "stream",
          "text": [
            "\n",
            "Attaching package: ‘dplyr’\n",
            "\n",
            "\n",
            "The following objects are masked from ‘package:stats’:\n",
            "\n",
            "    filter, lag\n",
            "\n",
            "\n",
            "The following objects are masked from ‘package:base’:\n",
            "\n",
            "    intersect, setdiff, setequal, union\n",
            "\n",
            "\n",
            "Warning message in system(\"timedatectl\", intern = TRUE):\n",
            "“running command 'timedatectl' had status 1”\n",
            "\n",
            "Attaching package: ‘lubridate’\n",
            "\n",
            "\n",
            "The following objects are masked from ‘package:base’:\n",
            "\n",
            "    date, intersect, setdiff, union\n",
            "\n",
            "\n",
            "Loading required package: jiebaRD\n",
            "\n",
            "Loading required package: RColorBrewer\n",
            "\n"
          ],
          "name": "stderr"
        }
      ]
    },
    {
      "cell_type": "code",
      "metadata": {
        "id": "RmtlYDXWNVp9"
      },
      "source": [
        "content <- \"近日壽司郎推出優惠方案，指出只要名字裡有「鮭魚」兩字的民眾只要來店消費，一桌六人將全部免費，引發台灣民眾的改名熱潮，被戲稱為「鮭魚之亂」。有網友就認為，這次壽司郎沒想到台灣人的個性，粗估要吸收近500萬的餐費，因而被「狠狠上了一課」。但有不少人卻覺得，這次最大的贏家其實是壽司郎。壽司郎推出「愛の迴鮭祭」活動，活動期間內只要名字內有「鮭魚」兩字或同音，一字九折，兩字五折，若與鮭魚兩字同音同字同順序就能免費吃壽司，結果真的有人為了吃免費壽司去改名。而網友就在PTT上提到，這次的活動是因為壽司郎不熟悉台灣人的「狼性」，反被狠狠上了一課，更猜測企劃會不會在土下座（意指直接跪在地上）。\n",
        "\n",
        "不過此文一出，不少網友卻給出了不同看法「搞不好記功嘉獎」、「還有人以為虧喔」、「應該是太懂台灣人了，才會有這一波神操作」、「怎麼會有人覺得是負面宣傳啊，難道有人改鮭魚是壽司郎逼他」、「日本人果然懂台灣人」。\n",
        "其中不少網友就提到，這波促銷活動根本讓壽司郎成了最大贏家，「壽司郎一舉在台灣打開知名度」、「以討論度和來客量來看，完全是大成功」、「聲量知名度賺翻了好嗎」、「連國際媒體都報導，商學院學生報告都要寫這家了吧」、「廣告效益突破天際」、「很明顯是壽司郎給台灣上了一課」、「神操作好嗎」。\n",
        "據統計，壽司郎官方也在十九日時統計出兩天「鮭魚」消費的次數，十七日將近兩百人次，十八日則將近八百人次，兩天的活動就吸引了千名鮭魚到店消費，其中包括重複進場。不過實際吸收了多少餐費，官方並沒有給出明確數字，但如果平均一桌五千元來計算，粗估官方就要吸收近五百萬的餐費。\n",
        "\n",
        "\"\n",
        "cutter <- worker(bylines = F)"
      ],
      "execution_count": 34,
      "outputs": []
    },
    {
      "cell_type": "code",
      "metadata": {
        "colab": {
          "base_uri": "https://localhost:8080/",
          "height": 403
        },
        "id": "iewYjFV7N3WF",
        "outputId": "23ad1c94-4cbf-490e-b67a-b5070ae1a3eb"
      },
      "source": [
        "cutter[content]"
      ],
      "execution_count": 35,
      "outputs": [
        {
          "output_type": "display_data",
          "data": {
            "text/plain": [
              "  [1] \"近日\"     \"壽司\"     \"郎\"       \"推出\"     \"優惠\"     \"方案\"    \n",
              "  [7] \"指出\"     \"只要\"     \"名字\"     \"裡有\"     \"鮭魚\"     \"兩\"      \n",
              " [13] \"字\"       \"的\"       \"民\"       \"眾\"       \"只\"       \"要來\"    \n",
              " [19] \"店\"       \"消費\"     \"一桌\"     \"六人將\"   \"全部\"     \"免費\"    \n",
              " [25] \"引發\"     \"台灣民眾\" \"的\"       \"改名\"     \"熱潮\"     \"被\"      \n",
              " [31] \"戲稱\"     \"為\"       \"鮭魚\"     \"之亂\"     \"有\"       \"網友\"    \n",
              " [37] \"就\"       \"認為\"     \"這次\"     \"壽司\"     \"郎\"       \"沒想到\"  \n",
              " [43] \"台灣\"     \"人\"       \"的\"       \"個性\"     \"粗估\"     \"要\"      \n",
              " [49] \"吸收\"     \"近\"       \"500\"      \"萬\"       \"的\"       \"餐費\"    \n",
              " [55] \"因而\"     \"被\"       \"狠狠\"     \"上\"       \"了\"       \"一課\"    \n",
              " [61] \"但\"       \"有\"       \"不少\"     \"人\"       \"卻\"       \"覺得\"    \n",
              " [67] \"這次\"     \"最大\"     \"的\"       \"贏家\"     \"其實\"     \"是\"      \n",
              " [73] \"壽司\"     \"郎\"       \"壽司\"     \"郎\"       \"推出\"     \"愛\"      \n",
              " [79] \"の\"       \"迴\"       \"鮭\"       \"祭\"       \"活動\"     \"活動\"    \n",
              " [85] \"期間\"     \"內\"       \"只要\"     \"名字\"     \"內有\"     \"鮭魚\"    \n",
              " [91] \"兩\"       \"字\"       \"或\"       \"同音\"     \"一字\"     \"九折\"    \n",
              " [97] \"兩字\"     \"五折\"     \"若\"       \"與\"       \"鮭魚\"     \"兩字\"    \n",
              "[103] \"同音\"     \"同字同\"   \"順序\"     \"就\"       \"能\"       \"免費\"    \n",
              "[109] \"吃\"       \"壽司\"     \"結果\"     \"真的\"     \"有人\"     \"為\"      \n",
              "[115] \"了\"       \"吃\"       \"免費\"     \"壽司\"     \"去\"       \"改名\"    \n",
              "[121] \"而\"       \"網友\"     \"就\"       \"在\"       \"PTT\"      \"上\"      \n",
              "[127] \"提到\"     \"這次\"     \"的\"       \"活動\"     \"是\"       \"因為\"    \n",
              "[133] \"壽司\"     \"郎\"       \"不\"       \"熟悉\"     \"台灣\"     \"人的\"    \n",
              "[139] \"狼\"       \"性\"       \"反\"       \"被\"       \"狠狠\"     \"上\"      \n",
              "[145] \"了\"       \"一課\"     \"更\"       \"猜測\"     \"企劃\"     \"會\"      \n",
              "[151] \"不會\"     \"在\"       \"土下座\"   \"意指\"     \"直接\"     \"跪\"      \n",
              "[157] \"在\"       \"地上\"     \"不過\"     \"此文\"     \"一出\"     \"不少\"    \n",
              "[163] \"網友\"     \"卻\"       \"給出\"     \"了\"       \"不同\"     \"看法\"    \n",
              "[169] \"搞不好\"   \"記功嘉獎\" \"還有\"     \"人以\"     \"為虧\"     \"喔\"      \n",
              "[175] \"應該\"     \"是\"       \"太\"       \"懂\"       \"台灣\"     \"人\"      \n",
              "[181] \"了\"       \"才\"       \"會\"       \"有\"       \"這一波\"   \"神\"      \n",
              "[187] \"操作\"     \"怎麼\"     \"會\"       \"有人\"     \"覺得\"     \"是\"      \n",
              "[193] \"負面\"     \"宣傳\"     \"啊\"       \"難道\"     \"有人\"     \"改\"      \n",
              "[199] \"鮭魚\"     \"是\"       \"壽司\"     \"郎逼他\"   \"日本\"     \"人\"      \n",
              "[205] \"果然\"     \"懂\"       \"台灣人\"   \"其中\"     \"不少\"     \"網友\"    \n",
              "[211] \"就\"       \"提到\"     \"這波\"     \"促銷\"     \"活動\"     \"根本\"    \n",
              "[217] \"讓\"       \"壽司\"     \"郎成\"     \"了\"       \"最大\"     \"贏家\"    \n",
              "[223] \"壽司\"     \"郎\"       \"一舉\"     \"在\"       \"台灣\"     \"打開\"    \n",
              "[229] \"知名度\"   \"以\"       \"討論\"     \"度\"       \"和\"       \"來客\"    \n",
              "[235] \"量\"       \"來看\"     \"完全\"     \"是\"       \"大\"       \"成功\"    \n",
              "[241] \"聲\"       \"量\"       \"知名度\"   \"賺\"       \"翻\"       \"了\"      \n",
              "[247] \"好嗎\"     \"連\"       \"國際\"     \"媒體\"     \"都\"       \"報導\"    \n",
              "[253] \"商學院\"   \"學生\"     \"報告\"     \"都\"       \"要\"       \"寫\"      \n",
              "[259] \"這家\"     \"了吧\"     \"廣告\"     \"效益\"     \"突破\"     \"天際\"    \n",
              "[265] \"很\"       \"明顯\"     \"是\"       \"壽司\"     \"郎給\"     \"台灣\"    \n",
              "[271] \"上\"       \"了\"       \"一課\"     \"神\"       \"操作\"     \"好嗎\"    \n",
              "[277] \"據統計\"   \"壽\"       \"司郎官\"   \"方\"       \"也\"       \"在\"      \n",
              "[283] \"十九日\"   \"時\"       \"統計\"     \"出\"       \"兩天\"     \"鮭魚\"    \n",
              "[289] \"消費\"     \"的\"       \"次數\"     \"十七日\"   \"將近\"     \"兩百人\"  \n",
              "[295] \"次\"       \"十八日\"   \"則\"       \"將近\"     \"八百\"     \"人次\"    \n",
              "[301] \"兩天\"     \"的\"       \"活動\"     \"就\"       \"吸引\"     \"了\"      \n",
              "[307] \"千名\"     \"鮭魚\"     \"到\"       \"店\"       \"消費\"     \"其中\"    \n",
              "[313] \"包括\"     \"重複\"     \"進場\"     \"不過\"     \"實際\"     \"吸收\"    \n",
              "[319] \"了\"       \"多少\"     \"餐費\"     \"官方\"     \"並\"       \"沒有\"    \n",
              "[325] \"給出\"     \"明確\"     \"數字\"     \"但\"       \"如果\"     \"平均\"    \n",
              "[331] \"一桌\"     \"五千元\"   \"來\"       \"計算\"     \"粗估\"     \"官方\"    \n",
              "[337] \"就要\"     \"吸收\"     \"近\"       \"五百萬\"   \"的\"       \"餐費\"    "
            ],
            "text/latex": "\\begin{enumerate*}\n\\item '近日'\n\\item '壽司'\n\\item '郎'\n\\item '推出'\n\\item '優惠'\n\\item '方案'\n\\item '指出'\n\\item '只要'\n\\item '名字'\n\\item '裡有'\n\\item '鮭魚'\n\\item '兩'\n\\item '字'\n\\item '的'\n\\item '民'\n\\item '眾'\n\\item '只'\n\\item '要來'\n\\item '店'\n\\item '消費'\n\\item '一桌'\n\\item '六人將'\n\\item '全部'\n\\item '免費'\n\\item '引發'\n\\item '台灣民眾'\n\\item '的'\n\\item '改名'\n\\item '熱潮'\n\\item '被'\n\\item '戲稱'\n\\item '為'\n\\item '鮭魚'\n\\item '之亂'\n\\item '有'\n\\item '網友'\n\\item '就'\n\\item '認為'\n\\item '這次'\n\\item '壽司'\n\\item '郎'\n\\item '沒想到'\n\\item '台灣'\n\\item '人'\n\\item '的'\n\\item '個性'\n\\item '粗估'\n\\item '要'\n\\item '吸收'\n\\item '近'\n\\item '500'\n\\item '萬'\n\\item '的'\n\\item '餐費'\n\\item '因而'\n\\item '被'\n\\item '狠狠'\n\\item '上'\n\\item '了'\n\\item '一課'\n\\item '但'\n\\item '有'\n\\item '不少'\n\\item '人'\n\\item '卻'\n\\item '覺得'\n\\item '這次'\n\\item '最大'\n\\item '的'\n\\item '贏家'\n\\item '其實'\n\\item '是'\n\\item '壽司'\n\\item '郎'\n\\item '壽司'\n\\item '郎'\n\\item '推出'\n\\item '愛'\n\\item 'の'\n\\item '迴'\n\\item '鮭'\n\\item '祭'\n\\item '活動'\n\\item '活動'\n\\item '期間'\n\\item '內'\n\\item '只要'\n\\item '名字'\n\\item '內有'\n\\item '鮭魚'\n\\item '兩'\n\\item '字'\n\\item '或'\n\\item '同音'\n\\item '一字'\n\\item '九折'\n\\item '兩字'\n\\item '五折'\n\\item '若'\n\\item '與'\n\\item '鮭魚'\n\\item '兩字'\n\\item '同音'\n\\item '同字同'\n\\item '順序'\n\\item '就'\n\\item '能'\n\\item '免費'\n\\item '吃'\n\\item '壽司'\n\\item '結果'\n\\item '真的'\n\\item '有人'\n\\item '為'\n\\item '了'\n\\item '吃'\n\\item '免費'\n\\item '壽司'\n\\item '去'\n\\item '改名'\n\\item '而'\n\\item '網友'\n\\item '就'\n\\item '在'\n\\item 'PTT'\n\\item '上'\n\\item '提到'\n\\item '這次'\n\\item '的'\n\\item '活動'\n\\item '是'\n\\item '因為'\n\\item '壽司'\n\\item '郎'\n\\item '不'\n\\item '熟悉'\n\\item '台灣'\n\\item '人的'\n\\item '狼'\n\\item '性'\n\\item '反'\n\\item '被'\n\\item '狠狠'\n\\item '上'\n\\item '了'\n\\item '一課'\n\\item '更'\n\\item '猜測'\n\\item '企劃'\n\\item '會'\n\\item '不會'\n\\item '在'\n\\item '土下座'\n\\item '意指'\n\\item '直接'\n\\item '跪'\n\\item '在'\n\\item '地上'\n\\item '不過'\n\\item '此文'\n\\item '一出'\n\\item '不少'\n\\item '網友'\n\\item '卻'\n\\item '給出'\n\\item '了'\n\\item '不同'\n\\item '看法'\n\\item '搞不好'\n\\item '記功嘉獎'\n\\item '還有'\n\\item '人以'\n\\item '為虧'\n\\item '喔'\n\\item '應該'\n\\item '是'\n\\item '太'\n\\item '懂'\n\\item '台灣'\n\\item '人'\n\\item '了'\n\\item '才'\n\\item '會'\n\\item '有'\n\\item '這一波'\n\\item '神'\n\\item '操作'\n\\item '怎麼'\n\\item '會'\n\\item '有人'\n\\item '覺得'\n\\item '是'\n\\item '負面'\n\\item '宣傳'\n\\item '啊'\n\\item '難道'\n\\item '有人'\n\\item '改'\n\\item '鮭魚'\n\\item '是'\n\\item '壽司'\n\\item '郎逼他'\n\\item '日本'\n\\item '人'\n\\item '果然'\n\\item '懂'\n\\item '台灣人'\n\\item '其中'\n\\item '不少'\n\\item '網友'\n\\item '就'\n\\item '提到'\n\\item '這波'\n\\item '促銷'\n\\item '活動'\n\\item '根本'\n\\item '讓'\n\\item '壽司'\n\\item '郎成'\n\\item '了'\n\\item '最大'\n\\item '贏家'\n\\item '壽司'\n\\item '郎'\n\\item '一舉'\n\\item '在'\n\\item '台灣'\n\\item '打開'\n\\item '知名度'\n\\item '以'\n\\item '討論'\n\\item '度'\n\\item '和'\n\\item '來客'\n\\item '量'\n\\item '來看'\n\\item '完全'\n\\item '是'\n\\item '大'\n\\item '成功'\n\\item '聲'\n\\item '量'\n\\item '知名度'\n\\item '賺'\n\\item '翻'\n\\item '了'\n\\item '好嗎'\n\\item '連'\n\\item '國際'\n\\item '媒體'\n\\item '都'\n\\item '報導'\n\\item '商學院'\n\\item '學生'\n\\item '報告'\n\\item '都'\n\\item '要'\n\\item '寫'\n\\item '這家'\n\\item '了吧'\n\\item '廣告'\n\\item '效益'\n\\item '突破'\n\\item '天際'\n\\item '很'\n\\item '明顯'\n\\item '是'\n\\item '壽司'\n\\item '郎給'\n\\item '台灣'\n\\item '上'\n\\item '了'\n\\item '一課'\n\\item '神'\n\\item '操作'\n\\item '好嗎'\n\\item '據統計'\n\\item '壽'\n\\item '司郎官'\n\\item '方'\n\\item '也'\n\\item '在'\n\\item '十九日'\n\\item '時'\n\\item '統計'\n\\item '出'\n\\item '兩天'\n\\item '鮭魚'\n\\item '消費'\n\\item '的'\n\\item '次數'\n\\item '十七日'\n\\item '將近'\n\\item '兩百人'\n\\item '次'\n\\item '十八日'\n\\item '則'\n\\item '將近'\n\\item '八百'\n\\item '人次'\n\\item '兩天'\n\\item '的'\n\\item '活動'\n\\item '就'\n\\item '吸引'\n\\item '了'\n\\item '千名'\n\\item '鮭魚'\n\\item '到'\n\\item '店'\n\\item '消費'\n\\item '其中'\n\\item '包括'\n\\item '重複'\n\\item '進場'\n\\item '不過'\n\\item '實際'\n\\item '吸收'\n\\item '了'\n\\item '多少'\n\\item '餐費'\n\\item '官方'\n\\item '並'\n\\item '沒有'\n\\item '給出'\n\\item '明確'\n\\item '數字'\n\\item '但'\n\\item '如果'\n\\item '平均'\n\\item '一桌'\n\\item '五千元'\n\\item '來'\n\\item '計算'\n\\item '粗估'\n\\item '官方'\n\\item '就要'\n\\item '吸收'\n\\item '近'\n\\item '五百萬'\n\\item '的'\n\\item '餐費'\n\\end{enumerate*}\n",
            "text/markdown": "1. '近日'\n2. '壽司'\n3. '郎'\n4. '推出'\n5. '優惠'\n6. '方案'\n7. '指出'\n8. '只要'\n9. '名字'\n10. '裡有'\n11. '鮭魚'\n12. '兩'\n13. '字'\n14. '的'\n15. '民'\n16. '眾'\n17. '只'\n18. '要來'\n19. '店'\n20. '消費'\n21. '一桌'\n22. '六人將'\n23. '全部'\n24. '免費'\n25. '引發'\n26. '台灣民眾'\n27. '的'\n28. '改名'\n29. '熱潮'\n30. '被'\n31. '戲稱'\n32. '為'\n33. '鮭魚'\n34. '之亂'\n35. '有'\n36. '網友'\n37. '就'\n38. '認為'\n39. '這次'\n40. '壽司'\n41. '郎'\n42. '沒想到'\n43. '台灣'\n44. '人'\n45. '的'\n46. '個性'\n47. '粗估'\n48. '要'\n49. '吸收'\n50. '近'\n51. '500'\n52. '萬'\n53. '的'\n54. '餐費'\n55. '因而'\n56. '被'\n57. '狠狠'\n58. '上'\n59. '了'\n60. '一課'\n61. '但'\n62. '有'\n63. '不少'\n64. '人'\n65. '卻'\n66. '覺得'\n67. '這次'\n68. '最大'\n69. '的'\n70. '贏家'\n71. '其實'\n72. '是'\n73. '壽司'\n74. '郎'\n75. '壽司'\n76. '郎'\n77. '推出'\n78. '愛'\n79. 'の'\n80. '迴'\n81. '鮭'\n82. '祭'\n83. '活動'\n84. '活動'\n85. '期間'\n86. '內'\n87. '只要'\n88. '名字'\n89. '內有'\n90. '鮭魚'\n91. '兩'\n92. '字'\n93. '或'\n94. '同音'\n95. '一字'\n96. '九折'\n97. '兩字'\n98. '五折'\n99. '若'\n100. '與'\n101. '鮭魚'\n102. '兩字'\n103. '同音'\n104. '同字同'\n105. '順序'\n106. '就'\n107. '能'\n108. '免費'\n109. '吃'\n110. '壽司'\n111. '結果'\n112. '真的'\n113. '有人'\n114. '為'\n115. '了'\n116. '吃'\n117. '免費'\n118. '壽司'\n119. '去'\n120. '改名'\n121. '而'\n122. '網友'\n123. '就'\n124. '在'\n125. 'PTT'\n126. '上'\n127. '提到'\n128. '這次'\n129. '的'\n130. '活動'\n131. '是'\n132. '因為'\n133. '壽司'\n134. '郎'\n135. '不'\n136. '熟悉'\n137. '台灣'\n138. '人的'\n139. '狼'\n140. '性'\n141. '反'\n142. '被'\n143. '狠狠'\n144. '上'\n145. '了'\n146. '一課'\n147. '更'\n148. '猜測'\n149. '企劃'\n150. '會'\n151. '不會'\n152. '在'\n153. '土下座'\n154. '意指'\n155. '直接'\n156. '跪'\n157. '在'\n158. '地上'\n159. '不過'\n160. '此文'\n161. '一出'\n162. '不少'\n163. '網友'\n164. '卻'\n165. '給出'\n166. '了'\n167. '不同'\n168. '看法'\n169. '搞不好'\n170. '記功嘉獎'\n171. '還有'\n172. '人以'\n173. '為虧'\n174. '喔'\n175. '應該'\n176. '是'\n177. '太'\n178. '懂'\n179. '台灣'\n180. '人'\n181. '了'\n182. '才'\n183. '會'\n184. '有'\n185. '這一波'\n186. '神'\n187. '操作'\n188. '怎麼'\n189. '會'\n190. '有人'\n191. '覺得'\n192. '是'\n193. '負面'\n194. '宣傳'\n195. '啊'\n196. '難道'\n197. '有人'\n198. '改'\n199. '鮭魚'\n200. '是'\n201. '壽司'\n202. '郎逼他'\n203. '日本'\n204. '人'\n205. '果然'\n206. '懂'\n207. '台灣人'\n208. '其中'\n209. '不少'\n210. '網友'\n211. '就'\n212. '提到'\n213. '這波'\n214. '促銷'\n215. '活動'\n216. '根本'\n217. '讓'\n218. '壽司'\n219. '郎成'\n220. '了'\n221. '最大'\n222. '贏家'\n223. '壽司'\n224. '郎'\n225. '一舉'\n226. '在'\n227. '台灣'\n228. '打開'\n229. '知名度'\n230. '以'\n231. '討論'\n232. '度'\n233. '和'\n234. '來客'\n235. '量'\n236. '來看'\n237. '完全'\n238. '是'\n239. '大'\n240. '成功'\n241. '聲'\n242. '量'\n243. '知名度'\n244. '賺'\n245. '翻'\n246. '了'\n247. '好嗎'\n248. '連'\n249. '國際'\n250. '媒體'\n251. '都'\n252. '報導'\n253. '商學院'\n254. '學生'\n255. '報告'\n256. '都'\n257. '要'\n258. '寫'\n259. '這家'\n260. '了吧'\n261. '廣告'\n262. '效益'\n263. '突破'\n264. '天際'\n265. '很'\n266. '明顯'\n267. '是'\n268. '壽司'\n269. '郎給'\n270. '台灣'\n271. '上'\n272. '了'\n273. '一課'\n274. '神'\n275. '操作'\n276. '好嗎'\n277. '據統計'\n278. '壽'\n279. '司郎官'\n280. '方'\n281. '也'\n282. '在'\n283. '十九日'\n284. '時'\n285. '統計'\n286. '出'\n287. '兩天'\n288. '鮭魚'\n289. '消費'\n290. '的'\n291. '次數'\n292. '十七日'\n293. '將近'\n294. '兩百人'\n295. '次'\n296. '十八日'\n297. '則'\n298. '將近'\n299. '八百'\n300. '人次'\n301. '兩天'\n302. '的'\n303. '活動'\n304. '就'\n305. '吸引'\n306. '了'\n307. '千名'\n308. '鮭魚'\n309. '到'\n310. '店'\n311. '消費'\n312. '其中'\n313. '包括'\n314. '重複'\n315. '進場'\n316. '不過'\n317. '實際'\n318. '吸收'\n319. '了'\n320. '多少'\n321. '餐費'\n322. '官方'\n323. '並'\n324. '沒有'\n325. '給出'\n326. '明確'\n327. '數字'\n328. '但'\n329. '如果'\n330. '平均'\n331. '一桌'\n332. '五千元'\n333. '來'\n334. '計算'\n335. '粗估'\n336. '官方'\n337. '就要'\n338. '吸收'\n339. '近'\n340. '五百萬'\n341. '的'\n342. '餐費'\n\n\n",
            "text/html": [
              "<style>\n",
              ".list-inline {list-style: none; margin:0; padding: 0}\n",
              ".list-inline>li {display: inline-block}\n",
              ".list-inline>li:not(:last-child)::after {content: \"\\00b7\"; padding: 0 .5ex}\n",
              "</style>\n",
              "<ol class=list-inline><li>'近日'</li><li>'壽司'</li><li>'郎'</li><li>'推出'</li><li>'優惠'</li><li>'方案'</li><li>'指出'</li><li>'只要'</li><li>'名字'</li><li>'裡有'</li><li>'鮭魚'</li><li>'兩'</li><li>'字'</li><li>'的'</li><li>'民'</li><li>'眾'</li><li>'只'</li><li>'要來'</li><li>'店'</li><li>'消費'</li><li>'一桌'</li><li>'六人將'</li><li>'全部'</li><li>'免費'</li><li>'引發'</li><li>'台灣民眾'</li><li>'的'</li><li>'改名'</li><li>'熱潮'</li><li>'被'</li><li>'戲稱'</li><li>'為'</li><li>'鮭魚'</li><li>'之亂'</li><li>'有'</li><li>'網友'</li><li>'就'</li><li>'認為'</li><li>'這次'</li><li>'壽司'</li><li>'郎'</li><li>'沒想到'</li><li>'台灣'</li><li>'人'</li><li>'的'</li><li>'個性'</li><li>'粗估'</li><li>'要'</li><li>'吸收'</li><li>'近'</li><li>'500'</li><li>'萬'</li><li>'的'</li><li>'餐費'</li><li>'因而'</li><li>'被'</li><li>'狠狠'</li><li>'上'</li><li>'了'</li><li>'一課'</li><li>'但'</li><li>'有'</li><li>'不少'</li><li>'人'</li><li>'卻'</li><li>'覺得'</li><li>'這次'</li><li>'最大'</li><li>'的'</li><li>'贏家'</li><li>'其實'</li><li>'是'</li><li>'壽司'</li><li>'郎'</li><li>'壽司'</li><li>'郎'</li><li>'推出'</li><li>'愛'</li><li>'の'</li><li>'迴'</li><li>'鮭'</li><li>'祭'</li><li>'活動'</li><li>'活動'</li><li>'期間'</li><li>'內'</li><li>'只要'</li><li>'名字'</li><li>'內有'</li><li>'鮭魚'</li><li>'兩'</li><li>'字'</li><li>'或'</li><li>'同音'</li><li>'一字'</li><li>'九折'</li><li>'兩字'</li><li>'五折'</li><li>'若'</li><li>'與'</li><li>'鮭魚'</li><li>'兩字'</li><li>'同音'</li><li>'同字同'</li><li>'順序'</li><li>'就'</li><li>'能'</li><li>'免費'</li><li>'吃'</li><li>'壽司'</li><li>'結果'</li><li>'真的'</li><li>'有人'</li><li>'為'</li><li>'了'</li><li>'吃'</li><li>'免費'</li><li>'壽司'</li><li>'去'</li><li>'改名'</li><li>'而'</li><li>'網友'</li><li>'就'</li><li>'在'</li><li>'PTT'</li><li>'上'</li><li>'提到'</li><li>'這次'</li><li>'的'</li><li>'活動'</li><li>'是'</li><li>'因為'</li><li>'壽司'</li><li>'郎'</li><li>'不'</li><li>'熟悉'</li><li>'台灣'</li><li>'人的'</li><li>'狼'</li><li>'性'</li><li>'反'</li><li>'被'</li><li>'狠狠'</li><li>'上'</li><li>'了'</li><li>'一課'</li><li>'更'</li><li>'猜測'</li><li>'企劃'</li><li>'會'</li><li>'不會'</li><li>'在'</li><li>'土下座'</li><li>'意指'</li><li>'直接'</li><li>'跪'</li><li>'在'</li><li>'地上'</li><li>'不過'</li><li>'此文'</li><li>'一出'</li><li>'不少'</li><li>'網友'</li><li>'卻'</li><li>'給出'</li><li>'了'</li><li>'不同'</li><li>'看法'</li><li>'搞不好'</li><li>'記功嘉獎'</li><li>'還有'</li><li>'人以'</li><li>'為虧'</li><li>'喔'</li><li>'應該'</li><li>'是'</li><li>'太'</li><li>'懂'</li><li>'台灣'</li><li>'人'</li><li>'了'</li><li>'才'</li><li>'會'</li><li>'有'</li><li>'這一波'</li><li>'神'</li><li>'操作'</li><li>'怎麼'</li><li>'會'</li><li>'有人'</li><li>'覺得'</li><li>'是'</li><li>'負面'</li><li>'宣傳'</li><li>'啊'</li><li>'難道'</li><li>'有人'</li><li>'改'</li><li>'鮭魚'</li><li>'是'</li><li>'壽司'</li><li>'郎逼他'</li><li>'日本'</li><li>'人'</li><li>'果然'</li><li>'懂'</li><li>'台灣人'</li><li>'其中'</li><li>'不少'</li><li>'網友'</li><li>'就'</li><li>'提到'</li><li>'這波'</li><li>'促銷'</li><li>'活動'</li><li>'根本'</li><li>'讓'</li><li>'壽司'</li><li>'郎成'</li><li>'了'</li><li>'最大'</li><li>'贏家'</li><li>'壽司'</li><li>'郎'</li><li>'一舉'</li><li>'在'</li><li>'台灣'</li><li>'打開'</li><li>'知名度'</li><li>'以'</li><li>'討論'</li><li>'度'</li><li>'和'</li><li>'來客'</li><li>'量'</li><li>'來看'</li><li>'完全'</li><li>'是'</li><li>'大'</li><li>'成功'</li><li>'聲'</li><li>'量'</li><li>'知名度'</li><li>'賺'</li><li>'翻'</li><li>'了'</li><li>'好嗎'</li><li>'連'</li><li>'國際'</li><li>'媒體'</li><li>'都'</li><li>'報導'</li><li>'商學院'</li><li>'學生'</li><li>'報告'</li><li>'都'</li><li>'要'</li><li>'寫'</li><li>'這家'</li><li>'了吧'</li><li>'廣告'</li><li>'效益'</li><li>'突破'</li><li>'天際'</li><li>'很'</li><li>'明顯'</li><li>'是'</li><li>'壽司'</li><li>'郎給'</li><li>'台灣'</li><li>'上'</li><li>'了'</li><li>'一課'</li><li>'神'</li><li>'操作'</li><li>'好嗎'</li><li>'據統計'</li><li>'壽'</li><li>'司郎官'</li><li>'方'</li><li>'也'</li><li>'在'</li><li>'十九日'</li><li>'時'</li><li>'統計'</li><li>'出'</li><li>'兩天'</li><li>'鮭魚'</li><li>'消費'</li><li>'的'</li><li>'次數'</li><li>'十七日'</li><li>'將近'</li><li>'兩百人'</li><li>'次'</li><li>'十八日'</li><li>'則'</li><li>'將近'</li><li>'八百'</li><li>'人次'</li><li>'兩天'</li><li>'的'</li><li>'活動'</li><li>'就'</li><li>'吸引'</li><li>'了'</li><li>'千名'</li><li>'鮭魚'</li><li>'到'</li><li>'店'</li><li>'消費'</li><li>'其中'</li><li>'包括'</li><li>'重複'</li><li>'進場'</li><li>'不過'</li><li>'實際'</li><li>'吸收'</li><li>'了'</li><li>'多少'</li><li>'餐費'</li><li>'官方'</li><li>'並'</li><li>'沒有'</li><li>'給出'</li><li>'明確'</li><li>'數字'</li><li>'但'</li><li>'如果'</li><li>'平均'</li><li>'一桌'</li><li>'五千元'</li><li>'來'</li><li>'計算'</li><li>'粗估'</li><li>'官方'</li><li>'就要'</li><li>'吸收'</li><li>'近'</li><li>'五百萬'</li><li>'的'</li><li>'餐費'</li></ol>\n"
            ]
          },
          "metadata": {
            "tags": []
          }
        }
      ]
    },
    {
      "cell_type": "code",
      "metadata": {
        "colab": {
          "base_uri": "https://localhost:8080/",
          "height": 319
        },
        "id": "Ug6ayct1N-sN",
        "outputId": "a9be4afd-487d-4a72-fca3-f4516d3ea043"
      },
      "source": [
        "new_words <- c(\"壽司郎\",\"貨櫃輪\",\"台灣人\",\"愛の迴鮭祭\",\"狼性\",\"日本人\",\"賺翻\",\"民眾\",\"兩字\",\"來店\",\"鮭魚之亂\",\"六人\",\"上了一課\"\n",
        ")\n",
        "\n",
        "\n",
        "for (i in 1:length(new_words)){\n",
        "  new_user_word(cutter, new_words[i])\n",
        "}\n",
        "content <- str_remove_all(content, \"[0-9a-zA-Z]+?\")\n",
        "cutter[content]"
      ],
      "execution_count": 70,
      "outputs": [
        {
          "output_type": "display_data",
          "data": {
            "text/plain": [
              "  [1] \"近日\"       \"壽司郎\"     \"推出\"       \"優惠\"       \"方案\"      \n",
              "  [6] \"指出\"       \"名字\"       \"裡有\"       \"鮭魚\"       \"兩字\"      \n",
              " [11] \"民眾\"       \"來店\"       \"消費\"       \"一桌\"       \"六人\"      \n",
              " [16] \"將\"         \"全部\"       \"免費\"       \"引發\"       \"台灣\"      \n",
              " [21] \"民眾\"       \"改名\"       \"熱潮\"       \"戲稱\"       \"鮭魚之亂\"  \n",
              " [26] \"網友\"       \"認為\"       \"壽司郎\"     \"沒想到\"     \"台灣人\"    \n",
              " [31] \"個性\"       \"粗估\"       \"吸收\"       \"近萬\"       \"餐費\"      \n",
              " [36] \"因而\"       \"狠狠\"       \"上了一課\"   \"不少\"       \"人\"        \n",
              " [41] \"最大\"       \"贏家\"       \"其實\"       \"壽司郎\"     \"壽司郎\"    \n",
              " [46] \"推出\"       \"愛の迴鮭祭\" \"活動\"       \"活動\"       \"期間\"      \n",
              " [51] \"內\"         \"名字\"       \"內有\"       \"鮭魚\"       \"兩字\"      \n",
              " [56] \"或\"         \"同音\"       \"一字\"       \"九折\"       \"兩字\"      \n",
              " [61] \"五折\"       \"若\"         \"與\"         \"鮭魚\"       \"兩字\"      \n",
              " [66] \"同音\"       \"同字同\"     \"順序\"       \"能\"         \"免費\"      \n",
              " [71] \"吃\"         \"壽司\"       \"結果\"       \"真的\"       \"吃\"        \n",
              " [76] \"免費\"       \"壽司\"       \"去\"         \"改名\"       \"而\"        \n",
              " [81] \"網友\"       \"提到\"       \"活動\"       \"因為\"       \"壽司郎\"    \n",
              " [86] \"不\"         \"熟悉\"       \"台灣人\"     \"狼性\"       \"反\"        \n",
              " [91] \"狠狠\"       \"上了一課\"   \"更\"         \"猜測\"       \"企劃\"      \n",
              " [96] \"不會\"       \"土下座\"     \"意指\"       \"直接\"       \"跪\"        \n",
              "[101] \"地上\"       \"此文\"       \"一出\"       \"不少\"       \"網友\"      \n",
              "[106] \"不同\"       \"看法\"       \"搞不好\"     \"記功嘉獎\"   \"還有\"      \n",
              "[111] \"人以\"       \"為虧\"       \"喔\"         \"應該\"       \"太\"        \n",
              "[116] \"懂\"         \"台灣人\"     \"才\"         \"這一波\"     \"神\"        \n",
              "[121] \"操作\"       \"怎麼\"       \"負面\"       \"宣傳\"       \"啊\"        \n",
              "[126] \"難道\"       \"改\"         \"鮭魚\"       \"壽司郎\"     \"逼他\"      \n",
              "[131] \"日本人\"     \"果然\"       \"懂\"         \"台灣人\"     \"不少\"      \n",
              "[136] \"網友\"       \"提到\"       \"這波\"       \"促銷\"       \"活動\"      \n",
              "[141] \"根本\"       \"讓\"         \"壽司郎\"     \"成\"         \"最大贏家\"  \n",
              "[146] \"壽司郎\"     \"一舉\"       \"台灣\"       \"打開\"       \"知名度\"    \n",
              "[151] \"以\"         \"討論\"       \"度\"         \"和\"         \"來客\"      \n",
              "[156] \"來看\"       \"完全\"       \"大\"         \"成功\"       \"聲\"        \n",
              "[161] \"知名度\"     \"賺翻\"       \"連\"         \"國際\"       \"媒體\"      \n",
              "[166] \"報導\"       \"商學院\"     \"學生\"       \"報告\"       \"寫\"        \n",
              "[171] \"這家\"       \"了吧\"       \"廣告\"       \"效益\"       \"突破\"      \n",
              "[176] \"天際\"       \"很\"         \"明顯\"       \"壽司郎\"     \"給台灣\"    \n",
              "[181] \"上了一課\"   \"神\"         \"操作\"       \"據統計\"     \"壽司郎\"    \n",
              "[186] \"官方\"       \"也\"         \"十九日\"     \"時\"         \"統計\"      \n",
              "[191] \"出\"         \"兩天\"       \"鮭魚\"       \"消費\"       \"次數\"      \n",
              "[196] \"十七日\"     \"兩百人\"     \"次\"         \"十八日\"     \"則\"        \n",
              "[201] \"八百\"       \"人次\"       \"兩天\"       \"活動\"       \"吸引\"      \n",
              "[206] \"千名\"       \"鮭魚\"       \"到\"         \"店\"         \"消費\"      \n",
              "[211] \"包括\"       \"重複\"       \"進場\"       \"實際\"       \"吸收\"      \n",
              "[216] \"多少\"       \"餐費\"       \"官方\"       \"並\"         \"沒有\"      \n",
              "[221] \"明確\"       \"數字\"       \"如果\"       \"平均\"       \"一桌\"      \n",
              "[226] \"五千元\"     \"來\"         \"計算\"       \"粗估\"       \"官方\"      \n",
              "[231] \"就要\"       \"吸收\"       \"近\"         \"五百萬\"     \"餐費\"      "
            ],
            "text/latex": "\\begin{enumerate*}\n\\item '近日'\n\\item '壽司郎'\n\\item '推出'\n\\item '優惠'\n\\item '方案'\n\\item '指出'\n\\item '名字'\n\\item '裡有'\n\\item '鮭魚'\n\\item '兩字'\n\\item '民眾'\n\\item '來店'\n\\item '消費'\n\\item '一桌'\n\\item '六人'\n\\item '將'\n\\item '全部'\n\\item '免費'\n\\item '引發'\n\\item '台灣'\n\\item '民眾'\n\\item '改名'\n\\item '熱潮'\n\\item '戲稱'\n\\item '鮭魚之亂'\n\\item '網友'\n\\item '認為'\n\\item '壽司郎'\n\\item '沒想到'\n\\item '台灣人'\n\\item '個性'\n\\item '粗估'\n\\item '吸收'\n\\item '近萬'\n\\item '餐費'\n\\item '因而'\n\\item '狠狠'\n\\item '上了一課'\n\\item '不少'\n\\item '人'\n\\item '最大'\n\\item '贏家'\n\\item '其實'\n\\item '壽司郎'\n\\item '壽司郎'\n\\item '推出'\n\\item '愛の迴鮭祭'\n\\item '活動'\n\\item '活動'\n\\item '期間'\n\\item '內'\n\\item '名字'\n\\item '內有'\n\\item '鮭魚'\n\\item '兩字'\n\\item '或'\n\\item '同音'\n\\item '一字'\n\\item '九折'\n\\item '兩字'\n\\item '五折'\n\\item '若'\n\\item '與'\n\\item '鮭魚'\n\\item '兩字'\n\\item '同音'\n\\item '同字同'\n\\item '順序'\n\\item '能'\n\\item '免費'\n\\item '吃'\n\\item '壽司'\n\\item '結果'\n\\item '真的'\n\\item '吃'\n\\item '免費'\n\\item '壽司'\n\\item '去'\n\\item '改名'\n\\item '而'\n\\item '網友'\n\\item '提到'\n\\item '活動'\n\\item '因為'\n\\item '壽司郎'\n\\item '不'\n\\item '熟悉'\n\\item '台灣人'\n\\item '狼性'\n\\item '反'\n\\item '狠狠'\n\\item '上了一課'\n\\item '更'\n\\item '猜測'\n\\item '企劃'\n\\item '不會'\n\\item '土下座'\n\\item '意指'\n\\item '直接'\n\\item '跪'\n\\item '地上'\n\\item '此文'\n\\item '一出'\n\\item '不少'\n\\item '網友'\n\\item '不同'\n\\item '看法'\n\\item '搞不好'\n\\item '記功嘉獎'\n\\item '還有'\n\\item '人以'\n\\item '為虧'\n\\item '喔'\n\\item '應該'\n\\item '太'\n\\item '懂'\n\\item '台灣人'\n\\item '才'\n\\item '這一波'\n\\item '神'\n\\item '操作'\n\\item '怎麼'\n\\item '負面'\n\\item '宣傳'\n\\item '啊'\n\\item '難道'\n\\item '改'\n\\item '鮭魚'\n\\item '壽司郎'\n\\item '逼他'\n\\item '日本人'\n\\item '果然'\n\\item '懂'\n\\item '台灣人'\n\\item '不少'\n\\item '網友'\n\\item '提到'\n\\item '這波'\n\\item '促銷'\n\\item '活動'\n\\item '根本'\n\\item '讓'\n\\item '壽司郎'\n\\item '成'\n\\item '最大贏家'\n\\item '壽司郎'\n\\item '一舉'\n\\item '台灣'\n\\item '打開'\n\\item '知名度'\n\\item '以'\n\\item '討論'\n\\item '度'\n\\item '和'\n\\item '來客'\n\\item '來看'\n\\item '完全'\n\\item '大'\n\\item '成功'\n\\item '聲'\n\\item '知名度'\n\\item '賺翻'\n\\item '連'\n\\item '國際'\n\\item '媒體'\n\\item '報導'\n\\item '商學院'\n\\item '學生'\n\\item '報告'\n\\item '寫'\n\\item '這家'\n\\item '了吧'\n\\item '廣告'\n\\item '效益'\n\\item '突破'\n\\item '天際'\n\\item '很'\n\\item '明顯'\n\\item '壽司郎'\n\\item '給台灣'\n\\item '上了一課'\n\\item '神'\n\\item '操作'\n\\item '據統計'\n\\item '壽司郎'\n\\item '官方'\n\\item '也'\n\\item '十九日'\n\\item '時'\n\\item '統計'\n\\item '出'\n\\item '兩天'\n\\item '鮭魚'\n\\item '消費'\n\\item '次數'\n\\item '十七日'\n\\item '兩百人'\n\\item '次'\n\\item '十八日'\n\\item '則'\n\\item '八百'\n\\item '人次'\n\\item '兩天'\n\\item '活動'\n\\item '吸引'\n\\item '千名'\n\\item '鮭魚'\n\\item '到'\n\\item '店'\n\\item '消費'\n\\item '包括'\n\\item '重複'\n\\item '進場'\n\\item '實際'\n\\item '吸收'\n\\item '多少'\n\\item '餐費'\n\\item '官方'\n\\item '並'\n\\item '沒有'\n\\item '明確'\n\\item '數字'\n\\item '如果'\n\\item '平均'\n\\item '一桌'\n\\item '五千元'\n\\item '來'\n\\item '計算'\n\\item '粗估'\n\\item '官方'\n\\item '就要'\n\\item '吸收'\n\\item '近'\n\\item '五百萬'\n\\item '餐費'\n\\end{enumerate*}\n",
            "text/markdown": "1. '近日'\n2. '壽司郎'\n3. '推出'\n4. '優惠'\n5. '方案'\n6. '指出'\n7. '名字'\n8. '裡有'\n9. '鮭魚'\n10. '兩字'\n11. '民眾'\n12. '來店'\n13. '消費'\n14. '一桌'\n15. '六人'\n16. '將'\n17. '全部'\n18. '免費'\n19. '引發'\n20. '台灣'\n21. '民眾'\n22. '改名'\n23. '熱潮'\n24. '戲稱'\n25. '鮭魚之亂'\n26. '網友'\n27. '認為'\n28. '壽司郎'\n29. '沒想到'\n30. '台灣人'\n31. '個性'\n32. '粗估'\n33. '吸收'\n34. '近萬'\n35. '餐費'\n36. '因而'\n37. '狠狠'\n38. '上了一課'\n39. '不少'\n40. '人'\n41. '最大'\n42. '贏家'\n43. '其實'\n44. '壽司郎'\n45. '壽司郎'\n46. '推出'\n47. '愛の迴鮭祭'\n48. '活動'\n49. '活動'\n50. '期間'\n51. '內'\n52. '名字'\n53. '內有'\n54. '鮭魚'\n55. '兩字'\n56. '或'\n57. '同音'\n58. '一字'\n59. '九折'\n60. '兩字'\n61. '五折'\n62. '若'\n63. '與'\n64. '鮭魚'\n65. '兩字'\n66. '同音'\n67. '同字同'\n68. '順序'\n69. '能'\n70. '免費'\n71. '吃'\n72. '壽司'\n73. '結果'\n74. '真的'\n75. '吃'\n76. '免費'\n77. '壽司'\n78. '去'\n79. '改名'\n80. '而'\n81. '網友'\n82. '提到'\n83. '活動'\n84. '因為'\n85. '壽司郎'\n86. '不'\n87. '熟悉'\n88. '台灣人'\n89. '狼性'\n90. '反'\n91. '狠狠'\n92. '上了一課'\n93. '更'\n94. '猜測'\n95. '企劃'\n96. '不會'\n97. '土下座'\n98. '意指'\n99. '直接'\n100. '跪'\n101. '地上'\n102. '此文'\n103. '一出'\n104. '不少'\n105. '網友'\n106. '不同'\n107. '看法'\n108. '搞不好'\n109. '記功嘉獎'\n110. '還有'\n111. '人以'\n112. '為虧'\n113. '喔'\n114. '應該'\n115. '太'\n116. '懂'\n117. '台灣人'\n118. '才'\n119. '這一波'\n120. '神'\n121. '操作'\n122. '怎麼'\n123. '負面'\n124. '宣傳'\n125. '啊'\n126. '難道'\n127. '改'\n128. '鮭魚'\n129. '壽司郎'\n130. '逼他'\n131. '日本人'\n132. '果然'\n133. '懂'\n134. '台灣人'\n135. '不少'\n136. '網友'\n137. '提到'\n138. '這波'\n139. '促銷'\n140. '活動'\n141. '根本'\n142. '讓'\n143. '壽司郎'\n144. '成'\n145. '最大贏家'\n146. '壽司郎'\n147. '一舉'\n148. '台灣'\n149. '打開'\n150. '知名度'\n151. '以'\n152. '討論'\n153. '度'\n154. '和'\n155. '來客'\n156. '來看'\n157. '完全'\n158. '大'\n159. '成功'\n160. '聲'\n161. '知名度'\n162. '賺翻'\n163. '連'\n164. '國際'\n165. '媒體'\n166. '報導'\n167. '商學院'\n168. '學生'\n169. '報告'\n170. '寫'\n171. '這家'\n172. '了吧'\n173. '廣告'\n174. '效益'\n175. '突破'\n176. '天際'\n177. '很'\n178. '明顯'\n179. '壽司郎'\n180. '給台灣'\n181. '上了一課'\n182. '神'\n183. '操作'\n184. '據統計'\n185. '壽司郎'\n186. '官方'\n187. '也'\n188. '十九日'\n189. '時'\n190. '統計'\n191. '出'\n192. '兩天'\n193. '鮭魚'\n194. '消費'\n195. '次數'\n196. '十七日'\n197. '兩百人'\n198. '次'\n199. '十八日'\n200. '則'\n201. '八百'\n202. '人次'\n203. '兩天'\n204. '活動'\n205. '吸引'\n206. '千名'\n207. '鮭魚'\n208. '到'\n209. '店'\n210. '消費'\n211. '包括'\n212. '重複'\n213. '進場'\n214. '實際'\n215. '吸收'\n216. '多少'\n217. '餐費'\n218. '官方'\n219. '並'\n220. '沒有'\n221. '明確'\n222. '數字'\n223. '如果'\n224. '平均'\n225. '一桌'\n226. '五千元'\n227. '來'\n228. '計算'\n229. '粗估'\n230. '官方'\n231. '就要'\n232. '吸收'\n233. '近'\n234. '五百萬'\n235. '餐費'\n\n\n",
            "text/html": [
              "<style>\n",
              ".list-inline {list-style: none; margin:0; padding: 0}\n",
              ".list-inline>li {display: inline-block}\n",
              ".list-inline>li:not(:last-child)::after {content: \"\\00b7\"; padding: 0 .5ex}\n",
              "</style>\n",
              "<ol class=list-inline><li>'近日'</li><li>'壽司郎'</li><li>'推出'</li><li>'優惠'</li><li>'方案'</li><li>'指出'</li><li>'名字'</li><li>'裡有'</li><li>'鮭魚'</li><li>'兩字'</li><li>'民眾'</li><li>'來店'</li><li>'消費'</li><li>'一桌'</li><li>'六人'</li><li>'將'</li><li>'全部'</li><li>'免費'</li><li>'引發'</li><li>'台灣'</li><li>'民眾'</li><li>'改名'</li><li>'熱潮'</li><li>'戲稱'</li><li>'鮭魚之亂'</li><li>'網友'</li><li>'認為'</li><li>'壽司郎'</li><li>'沒想到'</li><li>'台灣人'</li><li>'個性'</li><li>'粗估'</li><li>'吸收'</li><li>'近萬'</li><li>'餐費'</li><li>'因而'</li><li>'狠狠'</li><li>'上了一課'</li><li>'不少'</li><li>'人'</li><li>'最大'</li><li>'贏家'</li><li>'其實'</li><li>'壽司郎'</li><li>'壽司郎'</li><li>'推出'</li><li>'愛の迴鮭祭'</li><li>'活動'</li><li>'活動'</li><li>'期間'</li><li>'內'</li><li>'名字'</li><li>'內有'</li><li>'鮭魚'</li><li>'兩字'</li><li>'或'</li><li>'同音'</li><li>'一字'</li><li>'九折'</li><li>'兩字'</li><li>'五折'</li><li>'若'</li><li>'與'</li><li>'鮭魚'</li><li>'兩字'</li><li>'同音'</li><li>'同字同'</li><li>'順序'</li><li>'能'</li><li>'免費'</li><li>'吃'</li><li>'壽司'</li><li>'結果'</li><li>'真的'</li><li>'吃'</li><li>'免費'</li><li>'壽司'</li><li>'去'</li><li>'改名'</li><li>'而'</li><li>'網友'</li><li>'提到'</li><li>'活動'</li><li>'因為'</li><li>'壽司郎'</li><li>'不'</li><li>'熟悉'</li><li>'台灣人'</li><li>'狼性'</li><li>'反'</li><li>'狠狠'</li><li>'上了一課'</li><li>'更'</li><li>'猜測'</li><li>'企劃'</li><li>'不會'</li><li>'土下座'</li><li>'意指'</li><li>'直接'</li><li>'跪'</li><li>'地上'</li><li>'此文'</li><li>'一出'</li><li>'不少'</li><li>'網友'</li><li>'不同'</li><li>'看法'</li><li>'搞不好'</li><li>'記功嘉獎'</li><li>'還有'</li><li>'人以'</li><li>'為虧'</li><li>'喔'</li><li>'應該'</li><li>'太'</li><li>'懂'</li><li>'台灣人'</li><li>'才'</li><li>'這一波'</li><li>'神'</li><li>'操作'</li><li>'怎麼'</li><li>'負面'</li><li>'宣傳'</li><li>'啊'</li><li>'難道'</li><li>'改'</li><li>'鮭魚'</li><li>'壽司郎'</li><li>'逼他'</li><li>'日本人'</li><li>'果然'</li><li>'懂'</li><li>'台灣人'</li><li>'不少'</li><li>'網友'</li><li>'提到'</li><li>'這波'</li><li>'促銷'</li><li>'活動'</li><li>'根本'</li><li>'讓'</li><li>'壽司郎'</li><li>'成'</li><li>'最大贏家'</li><li>'壽司郎'</li><li>'一舉'</li><li>'台灣'</li><li>'打開'</li><li>'知名度'</li><li>'以'</li><li>'討論'</li><li>'度'</li><li>'和'</li><li>'來客'</li><li>'來看'</li><li>'完全'</li><li>'大'</li><li>'成功'</li><li>'聲'</li><li>'知名度'</li><li>'賺翻'</li><li>'連'</li><li>'國際'</li><li>'媒體'</li><li>'報導'</li><li>'商學院'</li><li>'學生'</li><li>'報告'</li><li>'寫'</li><li>'這家'</li><li>'了吧'</li><li>'廣告'</li><li>'效益'</li><li>'突破'</li><li>'天際'</li><li>'很'</li><li>'明顯'</li><li>'壽司郎'</li><li>'給台灣'</li><li>'上了一課'</li><li>'神'</li><li>'操作'</li><li>'據統計'</li><li>'壽司郎'</li><li>'官方'</li><li>'也'</li><li>'十九日'</li><li>'時'</li><li>'統計'</li><li>'出'</li><li>'兩天'</li><li>'鮭魚'</li><li>'消費'</li><li>'次數'</li><li>'十七日'</li><li>'兩百人'</li><li>'次'</li><li>'十八日'</li><li>'則'</li><li>'八百'</li><li>'人次'</li><li>'兩天'</li><li>'活動'</li><li>'吸引'</li><li>'千名'</li><li>'鮭魚'</li><li>'到'</li><li>'店'</li><li>'消費'</li><li>'包括'</li><li>'重複'</li><li>'進場'</li><li>'實際'</li><li>'吸收'</li><li>'多少'</li><li>'餐費'</li><li>'官方'</li><li>'並'</li><li>'沒有'</li><li>'明確'</li><li>'數字'</li><li>'如果'</li><li>'平均'</li><li>'一桌'</li><li>'五千元'</li><li>'來'</li><li>'計算'</li><li>'粗估'</li><li>'官方'</li><li>'就要'</li><li>'吸收'</li><li>'近'</li><li>'五百萬'</li><li>'餐費'</li></ol>\n"
            ]
          },
          "metadata": {
            "tags": []
          }
        }
      ]
    },
    {
      "cell_type": "code",
      "metadata": {
        "colab": {
          "base_uri": "https://localhost:8080/",
          "height": 319
        },
        "id": "-kG0bq84PqRA",
        "outputId": "82a8e801-71e1-43e8-bd19-032d5e5a9683"
      },
      "source": [
        "new_words <- c(\"壽司郎\",\"貨櫃輪\",\"台灣人\",\"愛の迴鮭祭\",\"狼性\",\"日本人\",\"賺翻\",\"民眾\",\"兩字\",\"來店\",\"鮭魚之亂\",\"六人\",\"上了一課\")\n",
        "\n",
        "writeLines(new_words, \"new_words.txt\")\n",
        "\n",
        "stop_words <- c(\"就\",\"上\",\"的\",\"了\",\"是\",\"在\",\"有人\",\"有\",\"會\",\"被\",\"好嗎\",\"給出\",\"覺得\",\"都\",\"其中\",\"要\",\"卻\",\"但\",\"不過\",\"量\",\"將近\",\"只要\",\"為\",\"這次\")\n",
        "writeLines(stop_words, \"stop_words.txt\")\n",
        "\n",
        "cutter <- worker(user = \"new_words.txt\",stop_word = \"stop_words.txt\",\n",
        "bylines = FALSE)\n",
        "seg_words <- cutter[content]\n",
        "seg_words"
      ],
      "execution_count": 71,
      "outputs": [
        {
          "output_type": "display_data",
          "data": {
            "text/plain": [
              "  [1] \"近日\"       \"壽司郎\"     \"推出\"       \"優惠\"       \"方案\"      \n",
              "  [6] \"指出\"       \"名字\"       \"裡有\"       \"鮭魚\"       \"兩字\"      \n",
              " [11] \"民眾\"       \"來店\"       \"消費\"       \"一桌\"       \"六人\"      \n",
              " [16] \"將\"         \"全部\"       \"免費\"       \"引發\"       \"台灣\"      \n",
              " [21] \"民眾\"       \"改名\"       \"熱潮\"       \"戲稱\"       \"鮭魚之亂\"  \n",
              " [26] \"網友\"       \"認為\"       \"壽司郎\"     \"沒想到\"     \"台灣人\"    \n",
              " [31] \"個性\"       \"粗估\"       \"吸收\"       \"近萬\"       \"餐費\"      \n",
              " [36] \"因而\"       \"狠狠\"       \"上了一課\"   \"不少\"       \"人\"        \n",
              " [41] \"最大\"       \"贏家\"       \"其實\"       \"壽司郎\"     \"壽司郎\"    \n",
              " [46] \"推出\"       \"愛の迴鮭祭\" \"活動\"       \"活動\"       \"期間\"      \n",
              " [51] \"內\"         \"名字\"       \"內有\"       \"鮭魚\"       \"兩字\"      \n",
              " [56] \"或\"         \"同音\"       \"一字\"       \"九折\"       \"兩字\"      \n",
              " [61] \"五折\"       \"若\"         \"與\"         \"鮭魚\"       \"兩字\"      \n",
              " [66] \"同音\"       \"同字同\"     \"順序\"       \"能\"         \"免費\"      \n",
              " [71] \"吃\"         \"壽司\"       \"結果\"       \"真的\"       \"吃\"        \n",
              " [76] \"免費\"       \"壽司\"       \"去\"         \"改名\"       \"而\"        \n",
              " [81] \"網友\"       \"提到\"       \"活動\"       \"因為\"       \"壽司郎\"    \n",
              " [86] \"不\"         \"熟悉\"       \"台灣人\"     \"狼性\"       \"反\"        \n",
              " [91] \"狠狠\"       \"上了一課\"   \"更\"         \"猜測\"       \"企劃\"      \n",
              " [96] \"不會\"       \"土下座\"     \"意指\"       \"直接\"       \"跪\"        \n",
              "[101] \"地上\"       \"此文\"       \"一出\"       \"不少\"       \"網友\"      \n",
              "[106] \"不同\"       \"看法\"       \"搞不好\"     \"記功嘉獎\"   \"還有\"      \n",
              "[111] \"人以\"       \"為虧\"       \"喔\"         \"應該\"       \"太\"        \n",
              "[116] \"懂\"         \"台灣人\"     \"才\"         \"這一波\"     \"神\"        \n",
              "[121] \"操作\"       \"怎麼\"       \"負面\"       \"宣傳\"       \"啊\"        \n",
              "[126] \"難道\"       \"改\"         \"鮭魚\"       \"壽司郎\"     \"逼他\"      \n",
              "[131] \"日本人\"     \"果然\"       \"懂\"         \"台灣人\"     \"不少\"      \n",
              "[136] \"網友\"       \"提到\"       \"這波\"       \"促銷\"       \"活動\"      \n",
              "[141] \"根本\"       \"讓\"         \"壽司郎\"     \"成\"         \"最大\"      \n",
              "[146] \"贏家\"       \"壽司郎\"     \"一舉\"       \"台灣\"       \"打開\"      \n",
              "[151] \"知名度\"     \"以\"         \"討論\"       \"度\"         \"和\"        \n",
              "[156] \"來客\"       \"來看\"       \"完全\"       \"大\"         \"成功\"      \n",
              "[161] \"聲\"         \"知名度\"     \"賺翻\"       \"連\"         \"國際\"      \n",
              "[166] \"媒體\"       \"報導\"       \"商學院\"     \"學生\"       \"報告\"      \n",
              "[171] \"寫\"         \"這家\"       \"了吧\"       \"廣告\"       \"效益\"      \n",
              "[176] \"突破\"       \"天際\"       \"很\"         \"明顯\"       \"壽司郎\"    \n",
              "[181] \"給台灣\"     \"上了一課\"   \"神\"         \"操作\"       \"據統計\"    \n",
              "[186] \"壽司郎\"     \"官方\"       \"也\"         \"十九日\"     \"時\"        \n",
              "[191] \"統計\"       \"出\"         \"兩天\"       \"鮭魚\"       \"消費\"      \n",
              "[196] \"次數\"       \"十七日\"     \"兩百人\"     \"次\"         \"十八日\"    \n",
              "[201] \"則\"         \"八百\"       \"人次\"       \"兩天\"       \"活動\"      \n",
              "[206] \"吸引\"       \"千名\"       \"鮭魚\"       \"到\"         \"店\"        \n",
              "[211] \"消費\"       \"包括\"       \"重複\"       \"進場\"       \"實際\"      \n",
              "[216] \"吸收\"       \"多少\"       \"餐費\"       \"官方\"       \"並\"        \n",
              "[221] \"沒有\"       \"明確\"       \"數字\"       \"如果\"       \"平均\"      \n",
              "[226] \"一桌\"       \"五千元\"     \"來\"         \"計算\"       \"粗估\"      \n",
              "[231] \"官方\"       \"就要\"       \"吸收\"       \"近\"         \"五百萬\"    \n",
              "[236] \"餐費\"      "
            ],
            "text/latex": "\\begin{enumerate*}\n\\item '近日'\n\\item '壽司郎'\n\\item '推出'\n\\item '優惠'\n\\item '方案'\n\\item '指出'\n\\item '名字'\n\\item '裡有'\n\\item '鮭魚'\n\\item '兩字'\n\\item '民眾'\n\\item '來店'\n\\item '消費'\n\\item '一桌'\n\\item '六人'\n\\item '將'\n\\item '全部'\n\\item '免費'\n\\item '引發'\n\\item '台灣'\n\\item '民眾'\n\\item '改名'\n\\item '熱潮'\n\\item '戲稱'\n\\item '鮭魚之亂'\n\\item '網友'\n\\item '認為'\n\\item '壽司郎'\n\\item '沒想到'\n\\item '台灣人'\n\\item '個性'\n\\item '粗估'\n\\item '吸收'\n\\item '近萬'\n\\item '餐費'\n\\item '因而'\n\\item '狠狠'\n\\item '上了一課'\n\\item '不少'\n\\item '人'\n\\item '最大'\n\\item '贏家'\n\\item '其實'\n\\item '壽司郎'\n\\item '壽司郎'\n\\item '推出'\n\\item '愛の迴鮭祭'\n\\item '活動'\n\\item '活動'\n\\item '期間'\n\\item '內'\n\\item '名字'\n\\item '內有'\n\\item '鮭魚'\n\\item '兩字'\n\\item '或'\n\\item '同音'\n\\item '一字'\n\\item '九折'\n\\item '兩字'\n\\item '五折'\n\\item '若'\n\\item '與'\n\\item '鮭魚'\n\\item '兩字'\n\\item '同音'\n\\item '同字同'\n\\item '順序'\n\\item '能'\n\\item '免費'\n\\item '吃'\n\\item '壽司'\n\\item '結果'\n\\item '真的'\n\\item '吃'\n\\item '免費'\n\\item '壽司'\n\\item '去'\n\\item '改名'\n\\item '而'\n\\item '網友'\n\\item '提到'\n\\item '活動'\n\\item '因為'\n\\item '壽司郎'\n\\item '不'\n\\item '熟悉'\n\\item '台灣人'\n\\item '狼性'\n\\item '反'\n\\item '狠狠'\n\\item '上了一課'\n\\item '更'\n\\item '猜測'\n\\item '企劃'\n\\item '不會'\n\\item '土下座'\n\\item '意指'\n\\item '直接'\n\\item '跪'\n\\item '地上'\n\\item '此文'\n\\item '一出'\n\\item '不少'\n\\item '網友'\n\\item '不同'\n\\item '看法'\n\\item '搞不好'\n\\item '記功嘉獎'\n\\item '還有'\n\\item '人以'\n\\item '為虧'\n\\item '喔'\n\\item '應該'\n\\item '太'\n\\item '懂'\n\\item '台灣人'\n\\item '才'\n\\item '這一波'\n\\item '神'\n\\item '操作'\n\\item '怎麼'\n\\item '負面'\n\\item '宣傳'\n\\item '啊'\n\\item '難道'\n\\item '改'\n\\item '鮭魚'\n\\item '壽司郎'\n\\item '逼他'\n\\item '日本人'\n\\item '果然'\n\\item '懂'\n\\item '台灣人'\n\\item '不少'\n\\item '網友'\n\\item '提到'\n\\item '這波'\n\\item '促銷'\n\\item '活動'\n\\item '根本'\n\\item '讓'\n\\item '壽司郎'\n\\item '成'\n\\item '最大'\n\\item '贏家'\n\\item '壽司郎'\n\\item '一舉'\n\\item '台灣'\n\\item '打開'\n\\item '知名度'\n\\item '以'\n\\item '討論'\n\\item '度'\n\\item '和'\n\\item '來客'\n\\item '來看'\n\\item '完全'\n\\item '大'\n\\item '成功'\n\\item '聲'\n\\item '知名度'\n\\item '賺翻'\n\\item '連'\n\\item '國際'\n\\item '媒體'\n\\item '報導'\n\\item '商學院'\n\\item '學生'\n\\item '報告'\n\\item '寫'\n\\item '這家'\n\\item '了吧'\n\\item '廣告'\n\\item '效益'\n\\item '突破'\n\\item '天際'\n\\item '很'\n\\item '明顯'\n\\item '壽司郎'\n\\item '給台灣'\n\\item '上了一課'\n\\item '神'\n\\item '操作'\n\\item '據統計'\n\\item '壽司郎'\n\\item '官方'\n\\item '也'\n\\item '十九日'\n\\item '時'\n\\item '統計'\n\\item '出'\n\\item '兩天'\n\\item '鮭魚'\n\\item '消費'\n\\item '次數'\n\\item '十七日'\n\\item '兩百人'\n\\item '次'\n\\item '十八日'\n\\item '則'\n\\item '八百'\n\\item '人次'\n\\item '兩天'\n\\item '活動'\n\\item '吸引'\n\\item '千名'\n\\item '鮭魚'\n\\item '到'\n\\item '店'\n\\item '消費'\n\\item '包括'\n\\item '重複'\n\\item '進場'\n\\item '實際'\n\\item '吸收'\n\\item '多少'\n\\item '餐費'\n\\item '官方'\n\\item '並'\n\\item '沒有'\n\\item '明確'\n\\item '數字'\n\\item '如果'\n\\item '平均'\n\\item '一桌'\n\\item '五千元'\n\\item '來'\n\\item '計算'\n\\item '粗估'\n\\item '官方'\n\\item '就要'\n\\item '吸收'\n\\item '近'\n\\item '五百萬'\n\\item '餐費'\n\\end{enumerate*}\n",
            "text/markdown": "1. '近日'\n2. '壽司郎'\n3. '推出'\n4. '優惠'\n5. '方案'\n6. '指出'\n7. '名字'\n8. '裡有'\n9. '鮭魚'\n10. '兩字'\n11. '民眾'\n12. '來店'\n13. '消費'\n14. '一桌'\n15. '六人'\n16. '將'\n17. '全部'\n18. '免費'\n19. '引發'\n20. '台灣'\n21. '民眾'\n22. '改名'\n23. '熱潮'\n24. '戲稱'\n25. '鮭魚之亂'\n26. '網友'\n27. '認為'\n28. '壽司郎'\n29. '沒想到'\n30. '台灣人'\n31. '個性'\n32. '粗估'\n33. '吸收'\n34. '近萬'\n35. '餐費'\n36. '因而'\n37. '狠狠'\n38. '上了一課'\n39. '不少'\n40. '人'\n41. '最大'\n42. '贏家'\n43. '其實'\n44. '壽司郎'\n45. '壽司郎'\n46. '推出'\n47. '愛の迴鮭祭'\n48. '活動'\n49. '活動'\n50. '期間'\n51. '內'\n52. '名字'\n53. '內有'\n54. '鮭魚'\n55. '兩字'\n56. '或'\n57. '同音'\n58. '一字'\n59. '九折'\n60. '兩字'\n61. '五折'\n62. '若'\n63. '與'\n64. '鮭魚'\n65. '兩字'\n66. '同音'\n67. '同字同'\n68. '順序'\n69. '能'\n70. '免費'\n71. '吃'\n72. '壽司'\n73. '結果'\n74. '真的'\n75. '吃'\n76. '免費'\n77. '壽司'\n78. '去'\n79. '改名'\n80. '而'\n81. '網友'\n82. '提到'\n83. '活動'\n84. '因為'\n85. '壽司郎'\n86. '不'\n87. '熟悉'\n88. '台灣人'\n89. '狼性'\n90. '反'\n91. '狠狠'\n92. '上了一課'\n93. '更'\n94. '猜測'\n95. '企劃'\n96. '不會'\n97. '土下座'\n98. '意指'\n99. '直接'\n100. '跪'\n101. '地上'\n102. '此文'\n103. '一出'\n104. '不少'\n105. '網友'\n106. '不同'\n107. '看法'\n108. '搞不好'\n109. '記功嘉獎'\n110. '還有'\n111. '人以'\n112. '為虧'\n113. '喔'\n114. '應該'\n115. '太'\n116. '懂'\n117. '台灣人'\n118. '才'\n119. '這一波'\n120. '神'\n121. '操作'\n122. '怎麼'\n123. '負面'\n124. '宣傳'\n125. '啊'\n126. '難道'\n127. '改'\n128. '鮭魚'\n129. '壽司郎'\n130. '逼他'\n131. '日本人'\n132. '果然'\n133. '懂'\n134. '台灣人'\n135. '不少'\n136. '網友'\n137. '提到'\n138. '這波'\n139. '促銷'\n140. '活動'\n141. '根本'\n142. '讓'\n143. '壽司郎'\n144. '成'\n145. '最大'\n146. '贏家'\n147. '壽司郎'\n148. '一舉'\n149. '台灣'\n150. '打開'\n151. '知名度'\n152. '以'\n153. '討論'\n154. '度'\n155. '和'\n156. '來客'\n157. '來看'\n158. '完全'\n159. '大'\n160. '成功'\n161. '聲'\n162. '知名度'\n163. '賺翻'\n164. '連'\n165. '國際'\n166. '媒體'\n167. '報導'\n168. '商學院'\n169. '學生'\n170. '報告'\n171. '寫'\n172. '這家'\n173. '了吧'\n174. '廣告'\n175. '效益'\n176. '突破'\n177. '天際'\n178. '很'\n179. '明顯'\n180. '壽司郎'\n181. '給台灣'\n182. '上了一課'\n183. '神'\n184. '操作'\n185. '據統計'\n186. '壽司郎'\n187. '官方'\n188. '也'\n189. '十九日'\n190. '時'\n191. '統計'\n192. '出'\n193. '兩天'\n194. '鮭魚'\n195. '消費'\n196. '次數'\n197. '十七日'\n198. '兩百人'\n199. '次'\n200. '十八日'\n201. '則'\n202. '八百'\n203. '人次'\n204. '兩天'\n205. '活動'\n206. '吸引'\n207. '千名'\n208. '鮭魚'\n209. '到'\n210. '店'\n211. '消費'\n212. '包括'\n213. '重複'\n214. '進場'\n215. '實際'\n216. '吸收'\n217. '多少'\n218. '餐費'\n219. '官方'\n220. '並'\n221. '沒有'\n222. '明確'\n223. '數字'\n224. '如果'\n225. '平均'\n226. '一桌'\n227. '五千元'\n228. '來'\n229. '計算'\n230. '粗估'\n231. '官方'\n232. '就要'\n233. '吸收'\n234. '近'\n235. '五百萬'\n236. '餐費'\n\n\n",
            "text/html": [
              "<style>\n",
              ".list-inline {list-style: none; margin:0; padding: 0}\n",
              ".list-inline>li {display: inline-block}\n",
              ".list-inline>li:not(:last-child)::after {content: \"\\00b7\"; padding: 0 .5ex}\n",
              "</style>\n",
              "<ol class=list-inline><li>'近日'</li><li>'壽司郎'</li><li>'推出'</li><li>'優惠'</li><li>'方案'</li><li>'指出'</li><li>'名字'</li><li>'裡有'</li><li>'鮭魚'</li><li>'兩字'</li><li>'民眾'</li><li>'來店'</li><li>'消費'</li><li>'一桌'</li><li>'六人'</li><li>'將'</li><li>'全部'</li><li>'免費'</li><li>'引發'</li><li>'台灣'</li><li>'民眾'</li><li>'改名'</li><li>'熱潮'</li><li>'戲稱'</li><li>'鮭魚之亂'</li><li>'網友'</li><li>'認為'</li><li>'壽司郎'</li><li>'沒想到'</li><li>'台灣人'</li><li>'個性'</li><li>'粗估'</li><li>'吸收'</li><li>'近萬'</li><li>'餐費'</li><li>'因而'</li><li>'狠狠'</li><li>'上了一課'</li><li>'不少'</li><li>'人'</li><li>'最大'</li><li>'贏家'</li><li>'其實'</li><li>'壽司郎'</li><li>'壽司郎'</li><li>'推出'</li><li>'愛の迴鮭祭'</li><li>'活動'</li><li>'活動'</li><li>'期間'</li><li>'內'</li><li>'名字'</li><li>'內有'</li><li>'鮭魚'</li><li>'兩字'</li><li>'或'</li><li>'同音'</li><li>'一字'</li><li>'九折'</li><li>'兩字'</li><li>'五折'</li><li>'若'</li><li>'與'</li><li>'鮭魚'</li><li>'兩字'</li><li>'同音'</li><li>'同字同'</li><li>'順序'</li><li>'能'</li><li>'免費'</li><li>'吃'</li><li>'壽司'</li><li>'結果'</li><li>'真的'</li><li>'吃'</li><li>'免費'</li><li>'壽司'</li><li>'去'</li><li>'改名'</li><li>'而'</li><li>'網友'</li><li>'提到'</li><li>'活動'</li><li>'因為'</li><li>'壽司郎'</li><li>'不'</li><li>'熟悉'</li><li>'台灣人'</li><li>'狼性'</li><li>'反'</li><li>'狠狠'</li><li>'上了一課'</li><li>'更'</li><li>'猜測'</li><li>'企劃'</li><li>'不會'</li><li>'土下座'</li><li>'意指'</li><li>'直接'</li><li>'跪'</li><li>'地上'</li><li>'此文'</li><li>'一出'</li><li>'不少'</li><li>'網友'</li><li>'不同'</li><li>'看法'</li><li>'搞不好'</li><li>'記功嘉獎'</li><li>'還有'</li><li>'人以'</li><li>'為虧'</li><li>'喔'</li><li>'應該'</li><li>'太'</li><li>'懂'</li><li>'台灣人'</li><li>'才'</li><li>'這一波'</li><li>'神'</li><li>'操作'</li><li>'怎麼'</li><li>'負面'</li><li>'宣傳'</li><li>'啊'</li><li>'難道'</li><li>'改'</li><li>'鮭魚'</li><li>'壽司郎'</li><li>'逼他'</li><li>'日本人'</li><li>'果然'</li><li>'懂'</li><li>'台灣人'</li><li>'不少'</li><li>'網友'</li><li>'提到'</li><li>'這波'</li><li>'促銷'</li><li>'活動'</li><li>'根本'</li><li>'讓'</li><li>'壽司郎'</li><li>'成'</li><li>'最大'</li><li>'贏家'</li><li>'壽司郎'</li><li>'一舉'</li><li>'台灣'</li><li>'打開'</li><li>'知名度'</li><li>'以'</li><li>'討論'</li><li>'度'</li><li>'和'</li><li>'來客'</li><li>'來看'</li><li>'完全'</li><li>'大'</li><li>'成功'</li><li>'聲'</li><li>'知名度'</li><li>'賺翻'</li><li>'連'</li><li>'國際'</li><li>'媒體'</li><li>'報導'</li><li>'商學院'</li><li>'學生'</li><li>'報告'</li><li>'寫'</li><li>'這家'</li><li>'了吧'</li><li>'廣告'</li><li>'效益'</li><li>'突破'</li><li>'天際'</li><li>'很'</li><li>'明顯'</li><li>'壽司郎'</li><li>'給台灣'</li><li>'上了一課'</li><li>'神'</li><li>'操作'</li><li>'據統計'</li><li>'壽司郎'</li><li>'官方'</li><li>'也'</li><li>'十九日'</li><li>'時'</li><li>'統計'</li><li>'出'</li><li>'兩天'</li><li>'鮭魚'</li><li>'消費'</li><li>'次數'</li><li>'十七日'</li><li>'兩百人'</li><li>'次'</li><li>'十八日'</li><li>'則'</li><li>'八百'</li><li>'人次'</li><li>'兩天'</li><li>'活動'</li><li>'吸引'</li><li>'千名'</li><li>'鮭魚'</li><li>'到'</li><li>'店'</li><li>'消費'</li><li>'包括'</li><li>'重複'</li><li>'進場'</li><li>'實際'</li><li>'吸收'</li><li>'多少'</li><li>'餐費'</li><li>'官方'</li><li>'並'</li><li>'沒有'</li><li>'明確'</li><li>'數字'</li><li>'如果'</li><li>'平均'</li><li>'一桌'</li><li>'五千元'</li><li>'來'</li><li>'計算'</li><li>'粗估'</li><li>'官方'</li><li>'就要'</li><li>'吸收'</li><li>'近'</li><li>'五百萬'</li><li>'餐費'</li></ol>\n"
            ]
          },
          "metadata": {
            "tags": []
          }
        }
      ]
    },
    {
      "cell_type": "code",
      "metadata": {
        "colab": {
          "base_uri": "https://localhost:8080/",
          "height": 271
        },
        "id": "k-cCPvIlRvhW",
        "outputId": "7612397d-8849-4722-9912-6068ba90a4fc"
      },
      "source": [
        "txt_freq <- freq(seg_words) #頻率\n",
        "txt_freq <- arrange(txt_freq, desc(freq)) #大到小\n",
        "head(txt_freq) #檢查前5名"
      ],
      "execution_count": 72,
      "outputs": [
        {
          "output_type": "display_data",
          "data": {
            "text/plain": [
              "  char   freq\n",
              "1 壽司郎 10  \n",
              "2 鮭魚    6  \n",
              "3 活動    5  \n",
              "4 網友    4  \n",
              "5 兩字    4  \n",
              "6 台灣人  4  "
            ],
            "text/latex": "A data.frame: 6 × 2\n\\begin{tabular}{r|ll}\n  & char & freq\\\\\n  & <chr> & <dbl>\\\\\n\\hline\n\t1 & 壽司郎 & 10\\\\\n\t2 & 鮭魚   &  6\\\\\n\t3 & 活動   &  5\\\\\n\t4 & 網友   &  4\\\\\n\t5 & 兩字   &  4\\\\\n\t6 & 台灣人 &  4\\\\\n\\end{tabular}\n",
            "text/markdown": "\nA data.frame: 6 × 2\n\n| <!--/--> | char &lt;chr&gt; | freq &lt;dbl&gt; |\n|---|---|---|\n| 1 | 壽司郎 | 10 |\n| 2 | 鮭魚   |  6 |\n| 3 | 活動   |  5 |\n| 4 | 網友   |  4 |\n| 5 | 兩字   |  4 |\n| 6 | 台灣人 |  4 |\n\n",
            "text/html": [
              "<table class=\"dataframe\">\n",
              "<caption>A data.frame: 6 × 2</caption>\n",
              "<thead>\n",
              "\t<tr><th></th><th scope=col>char</th><th scope=col>freq</th></tr>\n",
              "\t<tr><th></th><th scope=col>&lt;chr&gt;</th><th scope=col>&lt;dbl&gt;</th></tr>\n",
              "</thead>\n",
              "<tbody>\n",
              "\t<tr><th scope=row>1</th><td>壽司郎</td><td>10</td></tr>\n",
              "\t<tr><th scope=row>2</th><td>鮭魚  </td><td> 6</td></tr>\n",
              "\t<tr><th scope=row>3</th><td>活動  </td><td> 5</td></tr>\n",
              "\t<tr><th scope=row>4</th><td>網友  </td><td> 4</td></tr>\n",
              "\t<tr><th scope=row>5</th><td>兩字  </td><td> 4</td></tr>\n",
              "\t<tr><th scope=row>6</th><td>台灣人</td><td> 4</td></tr>\n",
              "</tbody>\n",
              "</table>\n"
            ]
          },
          "metadata": {
            "tags": []
          }
        }
      ]
    },
    {
      "cell_type": "code",
      "metadata": {
        "colab": {
          "base_uri": "https://localhost:8080/",
          "height": 1000
        },
        "id": "acvP2BdbSjkM",
        "outputId": "c7444d7a-2efc-4cda-f47d-1db22f43494b"
      },
      "source": [
        "par(family=(\"Microsoft YaHei\"))\n",
        "\n",
        "wordcloud(txt_freq$char, txt_freq$freq, min.freq = 2, random.order = F,\n",
        "ordered.colors = F, colors = rainbow(nrow(txt_freq)) )"
      ],
      "execution_count": 76,
      "outputs": [
        {
          "output_type": "stream",
          "text": [
            "Warning message in strwidth(words[i], cex = size[i], ...):\n",
            "“font family 'Microsoft YaHei' not found, will use 'wqy-microhei' instead”\n",
            "Warning message in strheight(words[i], cex = size[i], ...):\n",
            "“font family 'Microsoft YaHei' not found, will use 'sans' instead”\n",
            "Warning message in text.default(x1, y1, words[i], cex = size[i], offset = 0, srt = rotWord * :\n",
            "“font family 'Microsoft YaHei' not found, will use 'wqy-microhei' instead”\n",
            "Warning message in text.default(x1, y1, words[i], cex = size[i], offset = 0, srt = rotWord * :\n",
            "“font family 'Microsoft YaHei' not found, will use 'wqy-microhei' instead”\n",
            "Warning message in text.default(x1, y1, words[i], cex = size[i], offset = 0, srt = rotWord * :\n",
            "“font family 'Microsoft YaHei' not found, will use 'wqy-microhei' instead”\n",
            "Warning message in text.default(x1, y1, words[i], cex = size[i], offset = 0, srt = rotWord * :\n",
            "“font family 'Microsoft YaHei' not found, will use 'wqy-microhei' instead”\n",
            "Warning message in text.default(x1, y1, words[i], cex = size[i], offset = 0, srt = rotWord * :\n",
            "“font family 'Microsoft YaHei' not found, will use 'wqy-microhei' instead”\n",
            "Warning message in strwidth(words[i], cex = size[i], ...):\n",
            "“font family 'Microsoft YaHei' not found, will use 'wqy-microhei' instead”\n",
            "Warning message in strheight(words[i], cex = size[i], ...):\n",
            "“font family 'Microsoft YaHei' not found, will use 'sans' instead”\n",
            "Warning message in text.default(x1, y1, words[i], cex = size[i], offset = 0, srt = rotWord * :\n",
            "“font family 'Microsoft YaHei' not found, will use 'wqy-microhei' instead”\n",
            "Warning message in text.default(x1, y1, words[i], cex = size[i], offset = 0, srt = rotWord * :\n",
            "“font family 'Microsoft YaHei' not found, will use 'wqy-microhei' instead”\n",
            "Warning message in text.default(x1, y1, words[i], cex = size[i], offset = 0, srt = rotWord * :\n",
            "“font family 'Microsoft YaHei' not found, will use 'wqy-microhei' instead”\n",
            "Warning message in text.default(x1, y1, words[i], cex = size[i], offset = 0, srt = rotWord * :\n",
            "“font family 'Microsoft YaHei' not found, will use 'wqy-microhei' instead”\n",
            "Warning message in strwidth(words[i], cex = size[i], ...):\n",
            "“font family 'Microsoft YaHei' not found, will use 'wqy-microhei' instead”\n",
            "Warning message in strheight(words[i], cex = size[i], ...):\n",
            "“font family 'Microsoft YaHei' not found, will use 'sans' instead”\n",
            "Warning message in text.default(x1, y1, words[i], cex = size[i], offset = 0, srt = rotWord * :\n",
            "“font family 'Microsoft YaHei' not found, will use 'wqy-microhei' instead”\n",
            "Warning message in text.default(x1, y1, words[i], cex = size[i], offset = 0, srt = rotWord * :\n",
            "“font family 'Microsoft YaHei' not found, will use 'wqy-microhei' instead”\n",
            "Warning message in text.default(x1, y1, words[i], cex = size[i], offset = 0, srt = rotWord * :\n",
            "“font family 'Microsoft YaHei' not found, will use 'wqy-microhei' instead”\n",
            "Warning message in text.default(x1, y1, words[i], cex = size[i], offset = 0, srt = rotWord * :\n",
            "“font family 'Microsoft YaHei' not found, will use 'wqy-microhei' instead”\n",
            "Warning message in strwidth(words[i], cex = size[i], ...):\n",
            "“font family 'Microsoft YaHei' not found, will use 'wqy-microhei' instead”\n",
            "Warning message in strheight(words[i], cex = size[i], ...):\n",
            "“font family 'Microsoft YaHei' not found, will use 'sans' instead”\n",
            "Warning message in text.default(x1, y1, words[i], cex = size[i], offset = 0, srt = rotWord * :\n",
            "“font family 'Microsoft YaHei' not found, will use 'wqy-microhei' instead”\n",
            "Warning message in text.default(x1, y1, words[i], cex = size[i], offset = 0, srt = rotWord * :\n",
            "“font family 'Microsoft YaHei' not found, will use 'wqy-microhei' instead”\n",
            "Warning message in text.default(x1, y1, words[i], cex = size[i], offset = 0, srt = rotWord * :\n",
            "“font family 'Microsoft YaHei' not found, will use 'wqy-microhei' instead”\n",
            "Warning message in text.default(x1, y1, words[i], cex = size[i], offset = 0, srt = rotWord * :\n",
            "“font family 'Microsoft YaHei' not found, will use 'wqy-microhei' instead”\n",
            "Warning message in strwidth(words[i], cex = size[i], ...):\n",
            "“font family 'Microsoft YaHei' not found, will use 'wqy-microhei' instead”\n",
            "Warning message in text.default(x1, y1, words[i], cex = size[i], offset = 0, srt = rotWord * :\n",
            "“font family 'Microsoft YaHei' not found, will use 'wqy-microhei' instead”\n",
            "Warning message in text.default(x1, y1, words[i], cex = size[i], offset = 0, srt = rotWord * :\n",
            "“font family 'Microsoft YaHei' not found, will use 'wqy-microhei' instead”\n",
            "Warning message in text.default(x1, y1, words[i], cex = size[i], offset = 0, srt = rotWord * :\n",
            "“font family 'Microsoft YaHei' not found, will use 'wqy-microhei' instead”\n",
            "Warning message in text.default(x1, y1, words[i], cex = size[i], offset = 0, srt = rotWord * :\n",
            "“font family 'Microsoft YaHei' not found, will use 'wqy-microhei' instead”\n",
            "Warning message in strwidth(words[i], cex = size[i], ...):\n",
            "“font family 'Microsoft YaHei' not found, will use 'wqy-microhei' instead”\n",
            "Warning message in text.default(x1, y1, words[i], cex = size[i], offset = 0, srt = rotWord * :\n",
            "“font family 'Microsoft YaHei' not found, will use 'wqy-microhei' instead”\n",
            "Warning message in text.default(x1, y1, words[i], cex = size[i], offset = 0, srt = rotWord * :\n",
            "“font family 'Microsoft YaHei' not found, will use 'wqy-microhei' instead”\n",
            "Warning message in text.default(x1, y1, words[i], cex = size[i], offset = 0, srt = rotWord * :\n",
            "“font family 'Microsoft YaHei' not found, will use 'wqy-microhei' instead”\n",
            "Warning message in text.default(x1, y1, words[i], cex = size[i], offset = 0, srt = rotWord * :\n",
            "“font family 'Microsoft YaHei' not found, will use 'wqy-microhei' instead”\n",
            "Warning message in text.default(x1, y1, words[i], cex = size[i], offset = 0, srt = rotWord * :\n",
            "“font family 'Microsoft YaHei' not found, will use 'wqy-microhei' instead”\n",
            "Warning message in strwidth(words[i], cex = size[i], ...):\n",
            "“font family 'Microsoft YaHei' not found, will use 'wqy-microhei' instead”\n",
            "Warning message in strheight(words[i], cex = size[i], ...):\n",
            "“font family 'Microsoft YaHei' not found, will use 'sans' instead”\n",
            "Warning message in text.default(x1, y1, words[i], cex = size[i], offset = 0, srt = rotWord * :\n",
            "“font family 'Microsoft YaHei' not found, will use 'wqy-microhei' instead”\n",
            "Warning message in text.default(x1, y1, words[i], cex = size[i], offset = 0, srt = rotWord * :\n",
            "“font family 'Microsoft YaHei' not found, will use 'wqy-microhei' instead”\n",
            "Warning message in text.default(x1, y1, words[i], cex = size[i], offset = 0, srt = rotWord * :\n",
            "“font family 'Microsoft YaHei' not found, will use 'wqy-microhei' instead”\n",
            "Warning message in text.default(x1, y1, words[i], cex = size[i], offset = 0, srt = rotWord * :\n",
            "“font family 'Microsoft YaHei' not found, will use 'wqy-microhei' instead”\n",
            "Warning message in strwidth(words[i], cex = size[i], ...):\n",
            "“font family 'Microsoft YaHei' not found, will use 'wqy-microhei' instead”\n",
            "Warning message in text.default(x1, y1, words[i], cex = size[i], offset = 0, srt = rotWord * :\n",
            "“font family 'Microsoft YaHei' not found, will use 'wqy-microhei' instead”\n",
            "Warning message in text.default(x1, y1, words[i], cex = size[i], offset = 0, srt = rotWord * :\n",
            "“font family 'Microsoft YaHei' not found, will use 'wqy-microhei' instead”\n",
            "Warning message in text.default(x1, y1, words[i], cex = size[i], offset = 0, srt = rotWord * :\n",
            "“font family 'Microsoft YaHei' not found, will use 'wqy-microhei' instead”\n",
            "Warning message in text.default(x1, y1, words[i], cex = size[i], offset = 0, srt = rotWord * :\n",
            "“font family 'Microsoft YaHei' not found, will use 'wqy-microhei' instead”\n",
            "Warning message in strwidth(words[i], cex = size[i], ...):\n",
            "“font family 'Microsoft YaHei' not found, will use 'wqy-microhei' instead”\n",
            "Warning message in text.default(x1, y1, words[i], cex = size[i], offset = 0, srt = rotWord * :\n",
            "“font family 'Microsoft YaHei' not found, will use 'wqy-microhei' instead”\n",
            "Warning message in text.default(x1, y1, words[i], cex = size[i], offset = 0, srt = rotWord * :\n",
            "“font family 'Microsoft YaHei' not found, will use 'wqy-microhei' instead”\n",
            "Warning message in text.default(x1, y1, words[i], cex = size[i], offset = 0, srt = rotWord * :\n",
            "“font family 'Microsoft YaHei' not found, will use 'wqy-microhei' instead”\n",
            "Warning message in text.default(x1, y1, words[i], cex = size[i], offset = 0, srt = rotWord * :\n",
            "“font family 'Microsoft YaHei' not found, will use 'wqy-microhei' instead”\n",
            "Warning message in strwidth(words[i], cex = size[i], ...):\n",
            "“font family 'Microsoft YaHei' not found, will use 'wqy-microhei' instead”\n",
            "Warning message in text.default(x1, y1, words[i], cex = size[i], offset = 0, srt = rotWord * :\n",
            "“font family 'Microsoft YaHei' not found, will use 'wqy-microhei' instead”\n",
            "Warning message in text.default(x1, y1, words[i], cex = size[i], offset = 0, srt = rotWord * :\n",
            "“font family 'Microsoft YaHei' not found, will use 'wqy-microhei' instead”\n",
            "Warning message in text.default(x1, y1, words[i], cex = size[i], offset = 0, srt = rotWord * :\n",
            "“font family 'Microsoft YaHei' not found, will use 'wqy-microhei' instead”\n",
            "Warning message in text.default(x1, y1, words[i], cex = size[i], offset = 0, srt = rotWord * :\n",
            "“font family 'Microsoft YaHei' not found, will use 'wqy-microhei' instead”\n",
            "Warning message in strwidth(words[i], cex = size[i], ...):\n",
            "“font family 'Microsoft YaHei' not found, will use 'wqy-microhei' instead”\n",
            "Warning message in text.default(x1, y1, words[i], cex = size[i], offset = 0, srt = rotWord * :\n",
            "“font family 'Microsoft YaHei' not found, will use 'wqy-microhei' instead”\n",
            "Warning message in text.default(x1, y1, words[i], cex = size[i], offset = 0, srt = rotWord * :\n",
            "“font family 'Microsoft YaHei' not found, will use 'wqy-microhei' instead”\n",
            "Warning message in text.default(x1, y1, words[i], cex = size[i], offset = 0, srt = rotWord * :\n",
            "“font family 'Microsoft YaHei' not found, will use 'wqy-microhei' instead”\n",
            "Warning message in text.default(x1, y1, words[i], cex = size[i], offset = 0, srt = rotWord * :\n",
            "“font family 'Microsoft YaHei' not found, will use 'wqy-microhei' instead”\n",
            "Warning message in strwidth(words[i], cex = size[i], ...):\n",
            "“font family 'Microsoft YaHei' not found, will use 'wqy-microhei' instead”\n",
            "Warning message in text.default(x1, y1, words[i], cex = size[i], offset = 0, srt = rotWord * :\n",
            "“font family 'Microsoft YaHei' not found, will use 'wqy-microhei' instead”\n",
            "Warning message in text.default(x1, y1, words[i], cex = size[i], offset = 0, srt = rotWord * :\n",
            "“font family 'Microsoft YaHei' not found, will use 'wqy-microhei' instead”\n",
            "Warning message in text.default(x1, y1, words[i], cex = size[i], offset = 0, srt = rotWord * :\n",
            "“font family 'Microsoft YaHei' not found, will use 'wqy-microhei' instead”\n",
            "Warning message in text.default(x1, y1, words[i], cex = size[i], offset = 0, srt = rotWord * :\n",
            "“font family 'Microsoft YaHei' not found, will use 'wqy-microhei' instead”\n",
            "Warning message in text.default(x1, y1, words[i], cex = size[i], offset = 0, srt = rotWord * :\n",
            "“font family 'Microsoft YaHei' not found, will use 'wqy-microhei' instead”\n",
            "Warning message in text.default(x1, y1, words[i], cex = size[i], offset = 0, srt = rotWord * :\n",
            "“font family 'Microsoft YaHei' not found, will use 'wqy-microhei' instead”\n",
            "Warning message in strwidth(words[i], cex = size[i], ...):\n",
            "“font family 'Microsoft YaHei' not found, will use 'wqy-microhei' instead”\n",
            "Warning message in text.default(x1, y1, words[i], cex = size[i], offset = 0, srt = rotWord * :\n",
            "“font family 'Microsoft YaHei' not found, will use 'wqy-microhei' instead”\n",
            "Warning message in text.default(x1, y1, words[i], cex = size[i], offset = 0, srt = rotWord * :\n",
            "“font family 'Microsoft YaHei' not found, will use 'wqy-microhei' instead”\n",
            "Warning message in text.default(x1, y1, words[i], cex = size[i], offset = 0, srt = rotWord * :\n",
            "“font family 'Microsoft YaHei' not found, will use 'wqy-microhei' instead”\n",
            "Warning message in text.default(x1, y1, words[i], cex = size[i], offset = 0, srt = rotWord * :\n",
            "“font family 'Microsoft YaHei' not found, will use 'wqy-microhei' instead”\n",
            "Warning message in strwidth(words[i], cex = size[i], ...):\n",
            "“font family 'Microsoft YaHei' not found, will use 'wqy-microhei' instead”\n",
            "Warning message in strheight(words[i], cex = size[i], ...):\n",
            "“font family 'Microsoft YaHei' not found, will use 'sans' instead”\n",
            "Warning message in text.default(x1, y1, words[i], cex = size[i], offset = 0, srt = rotWord * :\n",
            "“font family 'Microsoft YaHei' not found, will use 'wqy-microhei' instead”\n",
            "Warning message in text.default(x1, y1, words[i], cex = size[i], offset = 0, srt = rotWord * :\n",
            "“font family 'Microsoft YaHei' not found, will use 'wqy-microhei' instead”\n",
            "Warning message in text.default(x1, y1, words[i], cex = size[i], offset = 0, srt = rotWord * :\n",
            "“font family 'Microsoft YaHei' not found, will use 'wqy-microhei' instead”\n",
            "Warning message in text.default(x1, y1, words[i], cex = size[i], offset = 0, srt = rotWord * :\n",
            "“font family 'Microsoft YaHei' not found, will use 'wqy-microhei' instead”\n",
            "Warning message in strwidth(words[i], cex = size[i], ...):\n",
            "“font family 'Microsoft YaHei' not found, will use 'wqy-microhei' instead”\n",
            "Warning message in text.default(x1, y1, words[i], cex = size[i], offset = 0, srt = rotWord * :\n",
            "“font family 'Microsoft YaHei' not found, will use 'wqy-microhei' instead”\n",
            "Warning message in text.default(x1, y1, words[i], cex = size[i], offset = 0, srt = rotWord * :\n",
            "“font family 'Microsoft YaHei' not found, will use 'wqy-microhei' instead”\n",
            "Warning message in text.default(x1, y1, words[i], cex = size[i], offset = 0, srt = rotWord * :\n",
            "“font family 'Microsoft YaHei' not found, will use 'wqy-microhei' instead”\n",
            "Warning message in strwidth(words[i], cex = size[i], ...):\n",
            "“font family 'Microsoft YaHei' not found, will use 'wqy-microhei' instead”\n",
            "Warning message in text.default(x1, y1, words[i], cex = size[i], offset = 0, srt = rotWord * :\n",
            "“font family 'Microsoft YaHei' not found, will use 'wqy-microhei' instead”\n",
            "Warning message in text.default(x1, y1, words[i], cex = size[i], offset = 0, srt = rotWord * :\n",
            "“font family 'Microsoft YaHei' not found, will use 'wqy-microhei' instead”\n",
            "Warning message in text.default(x1, y1, words[i], cex = size[i], offset = 0, srt = rotWord * :\n",
            "“font family 'Microsoft YaHei' not found, will use 'wqy-microhei' instead”\n",
            "Warning message in text.default(x1, y1, words[i], cex = size[i], offset = 0, srt = rotWord * :\n",
            "“font family 'Microsoft YaHei' not found, will use 'wqy-microhei' instead”\n",
            "Warning message in strwidth(words[i], cex = size[i], ...):\n",
            "“font family 'Microsoft YaHei' not found, will use 'wqy-microhei' instead”\n",
            "Warning message in text.default(x1, y1, words[i], cex = size[i], offset = 0, srt = rotWord * :\n",
            "“font family 'Microsoft YaHei' not found, will use 'wqy-microhei' instead”\n",
            "Warning message in text.default(x1, y1, words[i], cex = size[i], offset = 0, srt = rotWord * :\n",
            "“font family 'Microsoft YaHei' not found, will use 'wqy-microhei' instead”\n",
            "Warning message in text.default(x1, y1, words[i], cex = size[i], offset = 0, srt = rotWord * :\n",
            "“font family 'Microsoft YaHei' not found, will use 'wqy-microhei' instead”\n",
            "Warning message in text.default(x1, y1, words[i], cex = size[i], offset = 0, srt = rotWord * :\n",
            "“font family 'Microsoft YaHei' not found, will use 'wqy-microhei' instead”\n",
            "Warning message in strwidth(words[i], cex = size[i], ...):\n",
            "“font family 'Microsoft YaHei' not found, will use 'wqy-microhei' instead”\n",
            "Warning message in text.default(x1, y1, words[i], cex = size[i], offset = 0, srt = rotWord * :\n",
            "“font family 'Microsoft YaHei' not found, will use 'wqy-microhei' instead”\n",
            "Warning message in text.default(x1, y1, words[i], cex = size[i], offset = 0, srt = rotWord * :\n",
            "“font family 'Microsoft YaHei' not found, will use 'wqy-microhei' instead”\n",
            "Warning message in text.default(x1, y1, words[i], cex = size[i], offset = 0, srt = rotWord * :\n",
            "“font family 'Microsoft YaHei' not found, will use 'wqy-microhei' instead”\n",
            "Warning message in text.default(x1, y1, words[i], cex = size[i], offset = 0, srt = rotWord * :\n",
            "“font family 'Microsoft YaHei' not found, will use 'wqy-microhei' instead”\n",
            "Warning message in text.default(x1, y1, words[i], cex = size[i], offset = 0, srt = rotWord * :\n",
            "“font family 'Microsoft YaHei' not found, will use 'wqy-microhei' instead”\n",
            "Warning message in strwidth(words[i], cex = size[i], ...):\n",
            "“font family 'Microsoft YaHei' not found, will use 'wqy-microhei' instead”\n",
            "Warning message in text.default(x1, y1, words[i], cex = size[i], offset = 0, srt = rotWord * :\n",
            "“font family 'Microsoft YaHei' not found, will use 'wqy-microhei' instead”\n",
            "Warning message in text.default(x1, y1, words[i], cex = size[i], offset = 0, srt = rotWord * :\n",
            "“font family 'Microsoft YaHei' not found, will use 'wqy-microhei' instead”\n",
            "Warning message in text.default(x1, y1, words[i], cex = size[i], offset = 0, srt = rotWord * :\n",
            "“font family 'Microsoft YaHei' not found, will use 'wqy-microhei' instead”\n",
            "Warning message in text.default(x1, y1, words[i], cex = size[i], offset = 0, srt = rotWord * :\n",
            "“font family 'Microsoft YaHei' not found, will use 'wqy-microhei' instead”\n",
            "Warning message in strwidth(words[i], cex = size[i], ...):\n",
            "“font family 'Microsoft YaHei' not found, will use 'wqy-microhei' instead”\n",
            "Warning message in text.default(x1, y1, words[i], cex = size[i], offset = 0, srt = rotWord * :\n",
            "“font family 'Microsoft YaHei' not found, will use 'wqy-microhei' instead”\n",
            "Warning message in text.default(x1, y1, words[i], cex = size[i], offset = 0, srt = rotWord * :\n",
            "“font family 'Microsoft YaHei' not found, will use 'wqy-microhei' instead”\n",
            "Warning message in text.default(x1, y1, words[i], cex = size[i], offset = 0, srt = rotWord * :\n",
            "“font family 'Microsoft YaHei' not found, will use 'wqy-microhei' instead”\n",
            "Warning message in text.default(x1, y1, words[i], cex = size[i], offset = 0, srt = rotWord * :\n",
            "“font family 'Microsoft YaHei' not found, will use 'wqy-microhei' instead”\n",
            "Warning message in strwidth(words[i], cex = size[i], ...):\n",
            "“font family 'Microsoft YaHei' not found, will use 'wqy-microhei' instead”\n",
            "Warning message in text.default(x1, y1, words[i], cex = size[i], offset = 0, srt = rotWord * :\n",
            "“font family 'Microsoft YaHei' not found, will use 'wqy-microhei' instead”\n",
            "Warning message in text.default(x1, y1, words[i], cex = size[i], offset = 0, srt = rotWord * :\n",
            "“font family 'Microsoft YaHei' not found, will use 'wqy-microhei' instead”\n",
            "Warning message in text.default(x1, y1, words[i], cex = size[i], offset = 0, srt = rotWord * :\n",
            "“font family 'Microsoft YaHei' not found, will use 'wqy-microhei' instead”\n",
            "Warning message in text.default(x1, y1, words[i], cex = size[i], offset = 0, srt = rotWord * :\n",
            "“font family 'Microsoft YaHei' not found, will use 'wqy-microhei' instead”\n",
            "Warning message in strwidth(words[i], cex = size[i], ...):\n",
            "“font family 'Microsoft YaHei' not found, will use 'wqy-microhei' instead”\n",
            "Warning message in text.default(x1, y1, words[i], cex = size[i], offset = 0, srt = rotWord * :\n",
            "“font family 'Microsoft YaHei' not found, will use 'wqy-microhei' instead”\n",
            "Warning message in text.default(x1, y1, words[i], cex = size[i], offset = 0, srt = rotWord * :\n",
            "“font family 'Microsoft YaHei' not found, will use 'wqy-microhei' instead”\n",
            "Warning message in text.default(x1, y1, words[i], cex = size[i], offset = 0, srt = rotWord * :\n",
            "“font family 'Microsoft YaHei' not found, will use 'wqy-microhei' instead”\n",
            "Warning message in text.default(x1, y1, words[i], cex = size[i], offset = 0, srt = rotWord * :\n",
            "“font family 'Microsoft YaHei' not found, will use 'wqy-microhei' instead”\n",
            "Warning message in strwidth(words[i], cex = size[i], ...):\n",
            "“font family 'Microsoft YaHei' not found, will use 'wqy-microhei' instead”\n",
            "Warning message in text.default(x1, y1, words[i], cex = size[i], offset = 0, srt = rotWord * :\n",
            "“font family 'Microsoft YaHei' not found, will use 'wqy-microhei' instead”\n",
            "Warning message in text.default(x1, y1, words[i], cex = size[i], offset = 0, srt = rotWord * :\n",
            "“font family 'Microsoft YaHei' not found, will use 'wqy-microhei' instead”\n",
            "Warning message in text.default(x1, y1, words[i], cex = size[i], offset = 0, srt = rotWord * :\n",
            "“font family 'Microsoft YaHei' not found, will use 'wqy-microhei' instead”\n",
            "Warning message in text.default(x1, y1, words[i], cex = size[i], offset = 0, srt = rotWord * :\n",
            "“font family 'Microsoft YaHei' not found, will use 'wqy-microhei' instead”\n",
            "Warning message in strwidth(words[i], cex = size[i], ...):\n",
            "“font family 'Microsoft YaHei' not found, will use 'wqy-microhei' instead”\n",
            "Warning message in text.default(x1, y1, words[i], cex = size[i], offset = 0, srt = rotWord * :\n",
            "“font family 'Microsoft YaHei' not found, will use 'wqy-microhei' instead”\n",
            "Warning message in text.default(x1, y1, words[i], cex = size[i], offset = 0, srt = rotWord * :\n",
            "“font family 'Microsoft YaHei' not found, will use 'wqy-microhei' instead”\n",
            "Warning message in text.default(x1, y1, words[i], cex = size[i], offset = 0, srt = rotWord * :\n",
            "“font family 'Microsoft YaHei' not found, will use 'wqy-microhei' instead”\n",
            "Warning message in text.default(x1, y1, words[i], cex = size[i], offset = 0, srt = rotWord * :\n",
            "“font family 'Microsoft YaHei' not found, will use 'wqy-microhei' instead”\n",
            "Warning message in strwidth(words[i], cex = size[i], ...):\n",
            "“font family 'Microsoft YaHei' not found, will use 'wqy-microhei' instead”\n",
            "Warning message in text.default(x1, y1, words[i], cex = size[i], offset = 0, srt = rotWord * :\n",
            "“font family 'Microsoft YaHei' not found, will use 'wqy-microhei' instead”\n",
            "Warning message in text.default(x1, y1, words[i], cex = size[i], offset = 0, srt = rotWord * :\n",
            "“font family 'Microsoft YaHei' not found, will use 'wqy-microhei' instead”\n",
            "Warning message in text.default(x1, y1, words[i], cex = size[i], offset = 0, srt = rotWord * :\n",
            "“font family 'Microsoft YaHei' not found, will use 'wqy-microhei' instead”\n",
            "Warning message in text.default(x1, y1, words[i], cex = size[i], offset = 0, srt = rotWord * :\n",
            "“font family 'Microsoft YaHei' not found, will use 'wqy-microhei' instead”\n",
            "Warning message in strwidth(words[i], cex = size[i], ...):\n",
            "“font family 'Microsoft YaHei' not found, will use 'wqy-microhei' instead”\n",
            "Warning message in text.default(x1, y1, words[i], cex = size[i], offset = 0, srt = rotWord * :\n",
            "“font family 'Microsoft YaHei' not found, will use 'wqy-microhei' instead”\n",
            "Warning message in text.default(x1, y1, words[i], cex = size[i], offset = 0, srt = rotWord * :\n",
            "“font family 'Microsoft YaHei' not found, will use 'wqy-microhei' instead”\n",
            "Warning message in text.default(x1, y1, words[i], cex = size[i], offset = 0, srt = rotWord * :\n",
            "“font family 'Microsoft YaHei' not found, will use 'wqy-microhei' instead”\n",
            "Warning message in text.default(x1, y1, words[i], cex = size[i], offset = 0, srt = rotWord * :\n",
            "“font family 'Microsoft YaHei' not found, will use 'wqy-microhei' instead”\n",
            "Warning message in strwidth(words[i], cex = size[i], ...):\n",
            "“font family 'Microsoft YaHei' not found, will use 'wqy-microhei' instead”\n",
            "Warning message in text.default(x1, y1, words[i], cex = size[i], offset = 0, srt = rotWord * :\n",
            "“font family 'Microsoft YaHei' not found, will use 'wqy-microhei' instead”\n",
            "Warning message in text.default(x1, y1, words[i], cex = size[i], offset = 0, srt = rotWord * :\n",
            "“font family 'Microsoft YaHei' not found, will use 'wqy-microhei' instead”\n",
            "Warning message in text.default(x1, y1, words[i], cex = size[i], offset = 0, srt = rotWord * :\n",
            "“font family 'Microsoft YaHei' not found, will use 'wqy-microhei' instead”\n",
            "Warning message in strwidth(words[i], cex = size[i], ...):\n",
            "“font family 'Microsoft YaHei' not found, will use 'wqy-microhei' instead”\n",
            "Warning message in text.default(x1, y1, words[i], cex = size[i], offset = 0, srt = rotWord * :\n",
            "“font family 'Microsoft YaHei' not found, will use 'wqy-microhei' instead”\n",
            "Warning message in text.default(x1, y1, words[i], cex = size[i], offset = 0, srt = rotWord * :\n",
            "“font family 'Microsoft YaHei' not found, will use 'wqy-microhei' instead”\n",
            "Warning message in text.default(x1, y1, words[i], cex = size[i], offset = 0, srt = rotWord * :\n",
            "“font family 'Microsoft YaHei' not found, will use 'wqy-microhei' instead”\n",
            "Warning message in text.default(x1, y1, words[i], cex = size[i], offset = 0, srt = rotWord * :\n",
            "“font family 'Microsoft YaHei' not found, will use 'wqy-microhei' instead”\n",
            "Warning message in strwidth(words[i], cex = size[i], ...):\n",
            "“font family 'Microsoft YaHei' not found, will use 'wqy-microhei' instead”\n",
            "Warning message in text.default(x1, y1, words[i], cex = size[i], offset = 0, srt = rotWord * :\n",
            "“font family 'Microsoft YaHei' not found, will use 'wqy-microhei' instead”\n",
            "Warning message in text.default(x1, y1, words[i], cex = size[i], offset = 0, srt = rotWord * :\n",
            "“font family 'Microsoft YaHei' not found, will use 'wqy-microhei' instead”\n",
            "Warning message in text.default(x1, y1, words[i], cex = size[i], offset = 0, srt = rotWord * :\n",
            "“font family 'Microsoft YaHei' not found, will use 'wqy-microhei' instead”\n",
            "Warning message in strwidth(words[i], cex = size[i], ...):\n",
            "“font family 'Microsoft YaHei' not found, will use 'wqy-microhei' instead”\n",
            "Warning message in text.default(x1, y1, words[i], cex = size[i], offset = 0, srt = rotWord * :\n",
            "“font family 'Microsoft YaHei' not found, will use 'wqy-microhei' instead”\n",
            "Warning message in text.default(x1, y1, words[i], cex = size[i], offset = 0, srt = rotWord * :\n",
            "“font family 'Microsoft YaHei' not found, will use 'wqy-microhei' instead”\n",
            "Warning message in text.default(x1, y1, words[i], cex = size[i], offset = 0, srt = rotWord * :\n",
            "“font family 'Microsoft YaHei' not found, will use 'wqy-microhei' instead”\n",
            "Warning message in text.default(x1, y1, words[i], cex = size[i], offset = 0, srt = rotWord * :\n",
            "“font family 'Microsoft YaHei' not found, will use 'wqy-microhei' instead”\n",
            "Warning message in strwidth(words[i], cex = size[i], ...):\n",
            "“font family 'Microsoft YaHei' not found, will use 'wqy-microhei' instead”\n",
            "Warning message in text.default(x1, y1, words[i], cex = size[i], offset = 0, srt = rotWord * :\n",
            "“font family 'Microsoft YaHei' not found, will use 'wqy-microhei' instead”\n",
            "Warning message in text.default(x1, y1, words[i], cex = size[i], offset = 0, srt = rotWord * :\n",
            "“font family 'Microsoft YaHei' not found, will use 'wqy-microhei' instead”\n",
            "Warning message in text.default(x1, y1, words[i], cex = size[i], offset = 0, srt = rotWord * :\n",
            "“font family 'Microsoft YaHei' not found, will use 'wqy-microhei' instead”\n",
            "Warning message in text.default(x1, y1, words[i], cex = size[i], offset = 0, srt = rotWord * :\n",
            "“font family 'Microsoft YaHei' not found, will use 'wqy-microhei' instead”\n",
            "Warning message in strwidth(words[i], cex = size[i], ...):\n",
            "“font family 'Microsoft YaHei' not found, will use 'wqy-microhei' instead”\n",
            "Warning message in text.default(x1, y1, words[i], cex = size[i], offset = 0, srt = rotWord * :\n",
            "“font family 'Microsoft YaHei' not found, will use 'wqy-microhei' instead”\n",
            "Warning message in text.default(x1, y1, words[i], cex = size[i], offset = 0, srt = rotWord * :\n",
            "“font family 'Microsoft YaHei' not found, will use 'wqy-microhei' instead”\n",
            "Warning message in text.default(x1, y1, words[i], cex = size[i], offset = 0, srt = rotWord * :\n",
            "“font family 'Microsoft YaHei' not found, will use 'wqy-microhei' instead”\n",
            "Warning message in text.default(x1, y1, words[i], cex = size[i], offset = 0, srt = rotWord * :\n",
            "“font family 'Microsoft YaHei' not found, will use 'wqy-microhei' instead”\n"
          ],
          "name": "stderr"
        },
        {
          "output_type": "display_data",
          "data": {
            "image/png": "[encoded data removed]",
            "text/plain": [
              "plot without title"
            ]
          },
          "metadata": {
            "tags": [],
            "image/png": {
              "width": 420,
              "height": 420
            }
          }
        }
      ]
    },
    {
      "cell_type": "code",
      "metadata": {
        "colab": {
          "base_uri": "https://localhost:8080/"
        },
        "id": "kN4FXRiXW_29",
        "outputId": "52c09850-5fa5-4926-c4d1-12b69579cb34"
      },
      "source": [
        "install.packages(\"showtext\")"
      ],
      "execution_count": 74,
      "outputs": [
        {
          "output_type": "stream",
          "text": [
            "Installing package into ‘/usr/local/lib/R/site-library’\n",
            "(as ‘lib’ is unspecified)\n",
            "\n"
          ],
          "name": "stderr"
        }
      ]
    },
    {
      "cell_type": "code",
      "metadata": {
        "id": "eQ-Pg2QNXLxL",
        "colab": {
          "base_uri": "https://localhost:8080/"
        },
        "outputId": "e0654e41-63e2-4cc4-ebb1-a14d7d88a2ae"
      },
      "source": [
        "library(\"showtext\")"
      ],
      "execution_count": 23,
      "outputs": [
        {
          "output_type": "stream",
          "text": [
            "Loading required package: sysfonts\n",
            "\n",
            "Loading required package: showtextdb\n",
            "\n"
          ],
          "name": "stderr"
        }
      ]
    },
    {
      "cell_type": "code",
      "metadata": {
        "colab": {
          "base_uri": "https://localhost:8080/"
        },
        "id": "MM4qhDevXht6",
        "outputId": "d9ebf57c-310b-48b0-b9db-cf5e37f66fa4"
      },
      "source": [
        "showtext.auto(enable = TRUE)"
      ],
      "execution_count": 24,
      "outputs": [
        {
          "output_type": "stream",
          "text": [
            "'showtext.auto()' is now renamed to 'showtext_auto()'\n",
            "The old version still works, but consider using the new function in future code\n",
            "\n"
          ],
          "name": "stderr"
        }
      ]
    },
    {
      "cell_type": "code",
      "metadata": {
        "id": "sUFiG5jVoPWH"
      },
      "source": [
        ""
      ],
      "execution_count": null,
      "outputs": []
    }
  ]
}